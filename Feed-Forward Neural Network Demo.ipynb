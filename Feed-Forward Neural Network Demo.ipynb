{
 "cells": [
  {
   "cell_type": "markdown",
   "metadata": {},
   "source": [
    "# Machine Learning Exercise - Feed Forward Neural Network"
   ]
  },
  {
   "cell_type": "markdown",
   "metadata": {},
   "source": [
    "Hey there, hi there, ho there, dear reader! \n",
    "Today, Andrew Ng's machine learning class (https://www.coursera.org/learn/machine-learning) has tasked us with implementing a neural network that accurately classifies hand-written digits, basically pictures of 0-9 written by hand which were then labeled with the text representation of that number. This is the same data set used in the logistic regression exercise, but this time we will create a basic feed-forward neural network with backpropagation in python 3.0. It's important to remember that for neural networks we need to randomly initialize our weights (parameters (numbers we multiple by to guess what the correct answer is)), where as with models like linear and logistic regression, it's okay to use zero-intialization. Additionally, we will completely vectorize our code. What does that mean? It means using linear algebra instead of explicit for-loops when doing computations. Why? Because linear algebra libraries are optimized, so the code runs faster and the code is easier to read. After coding up a neural network from scratch, we'll implement the same neural network in Keras, a highly abstracted neural network python library.\n",
    "\n",
    "Enough talk! Let's load up the data!\n",
    "\n",
    "This notebook was inspired by http://www.johnwittenauer.net/machine-learning-exercises-in-python-part-1/. Check out his webpage if you're interesting in machine learning or data science."
   ]
  },
  {
   "cell_type": "code",
   "execution_count": 12,
   "metadata": {},
   "outputs": [
    {
     "data": {
      "text/plain": [
       "{'__header__': b'MATLAB 5.0 MAT-file, Platform: GLNXA64, Created on: Sun Oct 16 13:09:09 2011',\n",
       " '__version__': '1.0',\n",
       " '__globals__': [],\n",
       " 'X': array([[0., 0., 0., ..., 0., 0., 0.],\n",
       "        [0., 0., 0., ..., 0., 0., 0.],\n",
       "        [0., 0., 0., ..., 0., 0., 0.],\n",
       "        ...,\n",
       "        [0., 0., 0., ..., 0., 0., 0.],\n",
       "        [0., 0., 0., ..., 0., 0., 0.],\n",
       "        [0., 0., 0., ..., 0., 0., 0.]]),\n",
       " 'y': array([[10],\n",
       "        [10],\n",
       "        [10],\n",
       "        ...,\n",
       "        [ 9],\n",
       "        [ 9],\n",
       "        [ 9]], dtype=uint8)}"
      ]
     },
     "execution_count": 12,
     "metadata": {},
     "output_type": "execute_result"
    }
   ],
   "source": [
    "#this code assumes the data file is in the same directory as the code file\n",
    "import numpy as np\n",
    "import matplotlib.pyplot as plt\n",
    "from scipy.io import loadmat\n",
    "%matplotlib inline\n",
    "\n",
    "data = loadmat('ex4data1.mat')\n",
    "data"
   ]
  },
  {
   "cell_type": "markdown",
   "metadata": {},
   "source": [
    "As you can see, X is a matrix with the grayscale values of pixels that equate to the picture in question. y is a vector where each element corresponds to a row from our X matrix.\n",
    "Let's change X and y into something a bit more comfortable."
   ]
  },
  {
   "cell_type": "code",
   "execution_count": 13,
   "metadata": {},
   "outputs": [
    {
     "name": "stdout",
     "output_type": "stream",
     "text": [
      "X: (5000, 401) (+ bias term)\n",
      "y: (5000, 1)\n"
     ]
    }
   ],
   "source": [
    "y = data['y']\n",
    "# Add intercept or bias term\n",
    "X = np.c_[np.ones((data['X'].shape[0],1)), data['X']]\n",
    "\n",
    "print('X:',X.shape, '(+ bias term)')\n",
    "print('y:',y.shape)"
   ]
  },
  {
   "cell_type": "markdown",
   "metadata": {},
   "source": [
    "So X is a 5000 by 401 matrix, meaning 5000 data examples or rows (the value 'm') and 401 columns; in machine learning columns are often called features. The 400 comes from the fact that pictures from our data are 20x20 pixels and the number in each cell is the grayscale value of the pixel in question. 1 comes from adding the bias or intercept term, which allows us to fit the data more accurately because we don't force our model to pass through the origin. y is a 5000 by 1 column vector will 5000 elements that correspond to whatever picture X's grayscale pixel values are supposed to represent.\n",
    "\n",
    "... What? A picture is worth a thousand words so let's take a look!"
   ]
  },
  {
   "cell_type": "code",
   "execution_count": 147,
   "metadata": {},
   "outputs": [
    {
     "data": {
      "text/plain": [
       "<matplotlib.image.AxesImage at 0x265f9cae978>"
      ]
     },
     "execution_count": 147,
     "metadata": {},
     "output_type": "execute_result"
    },
    {
     "data": {
      "image/png": "[encoded data removed]",
      "text/plain": [
       "<Figure size 1152x1152 with 1 Axes>"
      ]
     },
     "metadata": {},
     "output_type": "display_data"
    }
   ],
   "source": [
    "ran_samp = np.random.choice(X.shape[0], 20)\n",
    "plt.figure(figsize = (16, 16))\n",
    "plt.imshow(X[ran_samp, 1:].reshape(-1, 20).T, cmap = cm.Greys_r) "
   ]
  },
  {
   "cell_type": "markdown",
   "metadata": {},
   "source": [
    "So one row of X is the grayscale values corresponding to one of the numbers above. Meanwhile, one element of y is the text representation or the label for one of the above pictures."
   ]
  },
  {
   "cell_type": "markdown",
   "metadata": {},
   "source": [
    "Because of the nature of neural networks, we need to convert the elements of y from scalar or real numbers into vectors. This is called one-hot encoding. Basically we will create a vector with nine 0s and one 1 for each unique label we have in our data. Our data only take on the values 0-9, so that's 10 one-hot encoded vectors. In other words, one-hot encoding converts a class label n (out of k classes) into a vector of length k, where the index n is \"hot\" (1) while the rest are zero. We will then fill a \"y matrix\" with these vectors. Luckily for us, Scikit-learn, a machine learning library, is already set up to do this."
   ]
  },
  {
   "cell_type": "code",
   "execution_count": 16,
   "metadata": {},
   "outputs": [
    {
     "data": {
      "text/plain": [
       "(array([[0., 0., 0., ..., 0., 0., 1.],\n",
       "        [0., 0., 0., ..., 0., 0., 1.],\n",
       "        [0., 0., 0., ..., 0., 0., 1.],\n",
       "        ...,\n",
       "        [0., 0., 0., ..., 0., 1., 0.],\n",
       "        [0., 0., 0., ..., 0., 1., 0.],\n",
       "        [0., 0., 0., ..., 0., 1., 0.]]), (5000, 10))"
      ]
     },
     "execution_count": 16,
     "metadata": {},
     "output_type": "execute_result"
    }
   ],
   "source": [
    "from sklearn.preprocessing import OneHotEncoder\n",
    "encoder = OneHotEncoder(sparse=False)\n",
    "y_onehot = encoder.fit_transform(y)\n",
    "y_onehot, y_onehot.shape"
   ]
  },
  {
   "cell_type": "markdown",
   "metadata": {},
   "source": [
    "We could also use pandas for this! I prefer scikit-learn, though, so this notebook will use the above variables. But, for your reference:"
   ]
  },
  {
   "cell_type": "code",
   "execution_count": 17,
   "metadata": {},
   "outputs": [
    {
     "data": {
      "text/plain": [
       "(array([[0, 0, 0, ..., 0, 0, 1],\n",
       "        [0, 0, 0, ..., 0, 0, 1],\n",
       "        [0, 0, 0, ..., 0, 0, 1],\n",
       "        ...,\n",
       "        [0, 0, 0, ..., 0, 1, 0],\n",
       "        [0, 0, 0, ..., 0, 1, 0],\n",
       "        [0, 0, 0, ..., 0, 1, 0]], dtype=uint8), (5000, 10))"
      ]
     },
     "execution_count": 17,
     "metadata": {},
     "output_type": "execute_result"
    }
   ],
   "source": [
    "import pandas as pd\n",
    "y_matrix = pd.get_dummies(y.ravel()).as_matrix() \n",
    "y_matrix, y_matrix.shape"
   ]
  },
  {
   "cell_type": "markdown",
   "metadata": {},
   "source": [
    "Now that our data is all set up, it's time for the main event. The neural network Andrew Ng has asked us to build has an input layer corresponding to the features of our data (400 + the bias or intercept term), a hidden layer with 25 units (26 if you include the bias unit), and an output layer with 10 units for each of our class labels. If you're feeling frisky and want more info, please check out the PDF in this repo, which also contains a picture of our network architecture.\n",
    "\n",
    "Let's first code up the sigmoid or logistic function, which converts real numbers into probabilities. This function, g(z), is defined as:\n",
    "\n",
    "#### Sigmoid or logistic function\n",
    "#### $$ g(z) = \\frac{1}{1+e^{-z}}$$"
   ]
  },
  {
   "cell_type": "code",
   "execution_count": 18,
   "metadata": {},
   "outputs": [],
   "source": [
    "def sigmoid(z):\n",
    "    return 1 / (1 + np.exp(-z))"
   ]
  },
  {
   "cell_type": "markdown",
   "metadata": {},
   "source": [
    "Not too bad, right? Now let's draw a plot and see if it will give us that beautiful 'S' line."
   ]
  },
  {
   "cell_type": "code",
   "execution_count": 19,
   "metadata": {},
   "outputs": [
    {
     "data": {
      "text/plain": [
       "Text(0.5,1,'Sigmoid S')"
      ]
     },
     "execution_count": 19,
     "metadata": {},
     "output_type": "execute_result"
    },
    {
     "data": {
      "image/png": "[encoded data removed]",
      "text/plain": [
       "<Figure size 864x576 with 1 Axes>"
      ]
     },
     "metadata": {},
     "output_type": "display_data"
    }
   ],
   "source": [
    "digits = np.arange(-15, 15, step=1)\n",
    "\n",
    "fig, ax = plt.subplots(figsize=(12,8))\n",
    "ax.plot(digits, sigmoid(digits), 'b')\n",
    "plt.xlabel('z',fontsize=16)\n",
    "plt.ylabel('g(z)',fontsize=16)\n",
    "plt.title('Sigmoid S',fontsize=16)"
   ]
  },
  {
   "cell_type": "markdown",
   "metadata": {},
   "source": [
    "Notice how the sigmoid function asymptotes at 0 and 1? That means it's smashed all our values into probabilities. This type of function is called the activation function and is repeated over and over again in neural networks. If you're familiar with logistic regression, neural networks are often called \"stacked logistic regression.\"\n",
    "\n",
    "Because the sigmoid function asymptotes at 0 and 1, the derivative at those values is close to 0, which slows learning down. In modern machine learning or deep learning, people typically use tanh, ReLu (rectified linear unit), or leaky ReLu as their activation function, because those don't suffer from the near-zero derivative problem. But who am I to argue with Andrew Ng? At any rate, I think you'll find ol' sigmoid does just fine for this task.\n",
    "\n",
    "Now let's do random intialization. We need to set up a matrix to store and update our parameter values for each layer of our network, excluding the input layer. In this case, that's two layers: one hidden layer and one output layer. We will then fill the matrix with small random values. We use random-intialization to let each unit in our network learn its own unique and interesting function. If we did zero-intialization, each node would be learning the same function and be redundant.\n",
    "\n",
    "First, we need to set up the parameters of our neural network. These are also given in the exercise PDF, but for your reference, dear reader:\n",
    "#### Neural Network\n",
    "Input layer size = 400 (20x20 pixels) <br>\n",
    "Hidden layer size = 25 <br>\n",
    "Number of labels = 10 <br>\n",
    "Regularization parameter = 1"
   ]
  },
  {
   "cell_type": "code",
   "execution_count": 131,
   "metadata": {},
   "outputs": [],
   "source": [
    "# initial setup\n",
    "input_size = 400\n",
    "hidden_size = 25\n",
    "num_labels = 10\n",
    "reg = 1"
   ]
  },
  {
   "cell_type": "code",
   "execution_count": 132,
   "metadata": {},
   "outputs": [
    {
     "data": {
      "text/plain": [
       "((10285,), (25, 401), (10, 26))"
      ]
     },
     "execution_count": 132,
     "metadata": {},
     "output_type": "execute_result"
    }
   ],
   "source": [
    "# initialize a random parameter array of the size of our network's parameters\n",
    "# 1s are added for the bias term in the input layer and for the bias unit in the hidden layer\n",
    "params = (np.random.random(size=hidden_size * (input_size + 1) + num_labels * (hidden_size + 1)) - 0.5) * 0.25\n",
    "\n",
    "\n",
    "# unravel the parameter array into parameter matrices for each layer\n",
    "theta1 = params[0:(hidden_size * (input_size + 1))].reshape(hidden_size, (input_size + 1))\n",
    "theta2 = params[(hidden_size * (input_size + 1)):].reshape(num_labels, (hidden_size + 1))\n",
    "\n",
    "params.shape, theta1.shape, theta2.shape"
   ]
  },
  {
   "cell_type": "markdown",
   "metadata": {},
   "source": [
    "Now we need to write some code for forward propagation.\n",
    "\n",
    "#### Forward Propagation\n",
    "$$ a^{(1)} = x $$\n",
    "$$ z^{(2)} = \\Theta^{(1)}a^{(1)} $$\n",
    "$$ a^{(2)} = g(z^{(2)}) \\quad (add \\quad a_0^{(2)}) $$\n",
    "$$ z^{(3)} = \\Theta^{(2)}a^{(2)} $$\n",
    "$$ a^{(3)} = h_\\Theta(x) = g(z^{(3)}) $$\n",
    "\n",
    "Forward propagation essentially computes our hypothesis or our network's guess based on our current parameter values. We denote our hypothesis by the letter 'h', which is dependent on computations from the previous layers. As we update our parameters (our theta matrixes) our hypthothesis will also change. We will return the values for each layer in order to do backpropagation later. Remember: for-loops should be avoided at all costs so we need to vectorize our approach."
   ]
  },
  {
   "cell_type": "code",
   "execution_count": 133,
   "metadata": {},
   "outputs": [],
   "source": [
    "def forward_propagate(X, theta1, theta2):\n",
    "    m = X.shape[0]\n",
    "    \n",
    "    \n",
    "    a1 = X\n",
    "    z2 = a1.dot(theta1.T)\n",
    "    #ones for the bias unit\n",
    "    a2 = np.insert(sigmoid(z2), 0, values = np.ones(m), axis = 1)\n",
    "    z3 = a2.dot(theta2.T)\n",
    "    h = sigmoid(z3)\n",
    "    \n",
    "    return a1, z2, a2, z3, h"
   ]
  },
  {
   "cell_type": "markdown",
   "metadata": {},
   "source": [
    "Now we need to create our cost function, which is a beast! The equations for both the cost function with and without regularization are given below. \n",
    "\n",
    "#### Cost Function \n",
    "#### $$ J(\\theta) = \\frac{1}{m}\\sum_{i=1}^{m}\\sum_{k=1}^{K}\\big[-y^{(i)}_{k}\\, log\\,(( h_\\theta\\,(x^{(i)}))_k)-(1-y^{(i)}_k)\\,log\\,(1-h_\\theta(x^{(i)}))_k)\\big]$$\n",
    "\n",
    "#### Regularized Cost Function\n",
    "#### $$ J(\\theta) = \\frac{1}{m}\\sum_{i=1}^{m}\\sum_{k=1}^{K}\\bigg[-y^{(i)}_{k}\\, log\\,(( h_\\theta\\,(x^{(i)}))_k)-(1-y^{(i)}_k)\\,log\\,(1-h_\\theta(x^{(i)}))_k)\\bigg] + \\frac{\\lambda}{2m}\\bigg[\\sum_{j=1}^{25}\\sum_{k=1}^{400}(\\Theta_{j,k}^{(1)})^2+\\sum_{j=1}^{10}\\sum_{k=1}^{25}(\\Theta_{j,k}^{(2)})^2\\bigg]$$"
   ]
  },
  {
   "cell_type": "markdown",
   "metadata": {},
   "source": [
    "The cost/loss/error function basically computes how bad our network's guess is. Our goal is to minimize our cost function, which we can do by manipulating our parameter values.\n",
    "\n",
    "If you're intimidated by the above equations, you're not alone. The first term of the regularized cost function just computes our network's error summed up over all of our data. The second term is called regularization and it tries to keep the values of both theta matrices as small as possible. Why do we want them small? Because we're trying to avoid overfitting to our data. If we can avoid overfitting, then hopefully our model will perform well on data it has never seen before.\n",
    "\n",
    "Now we just need to code it up!"
   ]
  },
  {
   "cell_type": "code",
   "execution_count": 134,
   "metadata": {},
   "outputs": [],
   "source": [
    "def cost(params, input_size, hidden_size, num_labels, X, y, reg):\n",
    "    m = X.shape[0]\n",
    "\n",
    "    # reshape the our theta vectors into theta matrices for the hidden layer and the output layer   \n",
    "    theta1 = params[0:(hidden_size * (input_size + 1))].reshape(hidden_size, (input_size + 1))\n",
    "    theta2 = params[(hidden_size * (input_size + 1)):].reshape(num_labels, (hidden_size + 1))\n",
    "     \n",
    "    #We need h\n",
    "    a1, z2, a2, z3, h = forward_propagate(X, theta1, theta2)\n",
    "    \n",
    "    J = -1 * (1 / m) * np.sum((np.log(h) * (y) + np.log(1 - h) *(1 - y))) +\\\n",
    "    (float(reg) / (2 * m)) * (np.sum(np.square(theta1[:,1:])) + np.sum(np.square(theta2[:,1:])))\n",
    "    \n",
    "    return J"
   ]
  },
  {
   "cell_type": "markdown",
   "metadata": {},
   "source": [
    "Notice the lack of for-loops? Vectorization is a beautiful thing.\n"
   ]
  },
  {
   "cell_type": "markdown",
   "metadata": {},
   "source": [
    "The worst part about all this is making sure your matrix dimensions make sense. Let's take a look and convince ourselves that we're doing something sensible."
   ]
  },
  {
   "cell_type": "code",
   "execution_count": 135,
   "metadata": {},
   "outputs": [
    {
     "data": {
      "text/plain": [
       "((5000, 401), (5000, 25), (5000, 26), (5000, 10), (5000, 10))"
      ]
     },
     "execution_count": 135,
     "metadata": {},
     "output_type": "execute_result"
    }
   ],
   "source": [
    "a1, z2, a2, z3, h = forward_propagate(X, theta1, theta2)\n",
    "a1.shape, z2.shape, a2.shape, z3.shape, h.shape"
   ]
  },
  {
   "cell_type": "markdown",
   "metadata": {},
   "source": [
    "... Looks reasonable I guess...\n",
    "\n",
    "\n",
    "Now, let's take our cost function for a spin. This function computes how different our model's guess is from the true label. In other words, what's the difference between our hypothesis (h) and our label (y)?"
   ]
  },
  {
   "cell_type": "code",
   "execution_count": 136,
   "metadata": {},
   "outputs": [
    {
     "data": {
      "text/plain": [
       "7.147201757616735"
      ]
     },
     "execution_count": 136,
     "metadata": {},
     "output_type": "execute_result"
    }
   ],
   "source": [
    "cost(params, input_size, hidden_size, num_labels, X, y_onehot, reg)"
   ]
  },
  {
   "cell_type": "markdown",
   "metadata": {},
   "source": [
    "That's not good... typically you want to see a cost below 0.6.\n",
    "\n",
    "What we need is an algorithm to reduce our cost. We're in luck because this algorithm is called backpropagation. Backpropagation computes the partial derivatives of our parameters for each layer, excluding the input layer. We can then use the derivatives as a guide to find a local (or if we're lucky a global) minimum of our cost function. If we find a minimum, we can use its values to update the values of our parameters and minimize our cost. Because we used the sigmoid activation function, the first thing we need is a function that computes the derivative (also called the gradient) of the sigmoid function.\n",
    "\n",
    "\n",
    "#### Sigmoid gradient\n",
    "#### $$ g'(z) = g(z)(1 - g(z))$$\n",
    "where $$ g(z) = \\frac{1}{1+e^{-z}}$$\n"
   ]
  },
  {
   "cell_type": "code",
   "execution_count": 137,
   "metadata": {},
   "outputs": [],
   "source": [
    "def sigmoid_gradient(z):\n",
    "    \n",
    "    return(sigmoid(z) * (1 - sigmoid(z)))"
   ]
  },
  {
   "cell_type": "markdown",
   "metadata": {},
   "source": [
    "Time for backpropagation, which may be the hardest thing in all of machine learning. Because backprop is dependent the values of everything we've talked about so far, we'll bring it all together below. We will use the variable $\\delta$ is represent the partial derivatives of J of theta with respect to z ($\\frac{\\delta}{{\\delta z^{(l)}}} J(\\Theta^{(l)})$) which is just a vector. This capital delta ($\\Delta$) is a matrix of all theses partial derivatives. Then by accumlating all these derivatives and following the equations below, we can put them together into D which becomes the partial derivative of J of theta with respect to a given theta. ($\\frac{\\delta}{{\\delta \\Theta^{(l)}}} J(\\Theta^{(l)})$)  \n",
    "\n",
    "Remember, daddio, for-loops are for squares!\n",
    "\n",
    "#### Backpropagation\n",
    "$$ \\delta^{(3)} = a^{(3)} - y = h_\\Theta(x) - y $$ \n",
    "$$ \\delta^{(2)} = \\Theta^{(2)T}\\delta^{(3)}.*g'(z^{(2)}) $$\n",
    "$$ \\Delta^{(l)} := \\Delta^{(l)} + \\delta^{(l+1)}(a^{(l)})^T $$\n",
    "$$ D^{(l)} := \\frac{1} {{m}} \\Delta^{(l)}+ \\lambda \\Theta^{(l)} \\quad if \\quad j \\neq 0 $$\n",
    "$$ D^{(l)} := \\frac{1} {{m}} \\Delta^{(l)} \\quad if \\quad j = 0 $$\n",
    "\n",
    "$$ D^{(l)} = \\frac{\\delta}{{\\delta \\Theta^{(l)}}} J(\\Theta^{(l)}) $$"
   ]
  },
  {
   "cell_type": "code",
   "execution_count": 138,
   "metadata": {},
   "outputs": [],
   "source": [
    "def backprop(params, input_size, hidden_size, num_labels, X, y, reg):\n",
    "    m = X.shape[0]\n",
    "    # reshape the our theta vectors into theta matrices for the hidden layer and the output layer\n",
    "    theta1 = params[0:(hidden_size * (input_size + 1))].reshape(hidden_size, (input_size +1))\n",
    "    theta2 = params[(hidden_size * (input_size + 1)):].reshape(num_labels, (hidden_size + 1))\n",
    "   \n",
    "    \n",
    "    # propagate the network with a guess\n",
    "    a1, z2, a2, z3, h = forward_propagate(X, theta1, theta2)\n",
    "    \n",
    "    # compute the cost of that guess\n",
    "    J = cost(params, input_size, hidden_size, num_labels, X, y, reg)\n",
    "     \n",
    "    \n",
    "   # perform backprop so we can try to make a better guess next time\n",
    "    d3 = h - y\n",
    "\n",
    "    d2 = theta2[:,1:].T.dot(d3.T) * sigmoid_gradient(z2).T # 25x10 *10x5000 * 25x5000 = 25x5000\n",
    "    \n",
    "  \n",
    "    delta1 = np.zeros(theta1.shape)  # (25, 401)\n",
    "    delta2 = np.zeros(theta2.shape) # (10, 26)\n",
    "    \n",
    "    delta1 = delta1 + d2.dot(a1) # 25x5000 * 5000x401 = 25x401\n",
    "    delta2 = delta2 + d3.T.dot(a2) # 10x5000 *5000x26 = 10x26\n",
    "    \n",
    "    delta1 = delta1 / m\n",
    "    delta2 = delta2 / m\n",
    "    \n",
    "  \n",
    "    #combine our two theta matrices into a row vector\n",
    "    grad = np.concatenate((np.ravel(delta1), np.ravel(delta2)))\n",
    "    \n",
    "    \n",
    "    return J, grad"
   ]
  },
  {
   "cell_type": "markdown",
   "metadata": {},
   "source": [
    "Once you understand the purpose of backprop-no small feat-, the only hard part is getting your matrix dimensions right, which is the hardest part of any machine learning task. I recommend liberal use of \".shape\". \n",
    "\n",
    "\n",
    "Let's take a look and hope it outputs something meaningful and doesn't crash."
   ]
  },
  {
   "cell_type": "code",
   "execution_count": 139,
   "metadata": {},
   "outputs": [
    {
     "data": {
      "text/plain": [
       "(7.147201757616735, (10285,))"
      ]
     },
     "execution_count": 139,
     "metadata": {},
     "output_type": "execute_result"
    }
   ],
   "source": [
    "J, grad = backprop(params, input_size, hidden_size, num_labels, X, y_onehot, reg)\n",
    "J, grad.shape"
   ]
  },
  {
   "cell_type": "markdown",
   "metadata": {},
   "source": [
    "Okay, now we can use the output of backprop to minimize our cost function. One way to do that is gradient descent, which is an iterative algorithm that just repeats backprop until convergence or our cost is small enough that we don't care to minimize it anymore. Instead, let's use scipy's more intelligent minimization functions that do that same thing as gradient descent only faster. For more info, please see https://docs.scipy.org/doc/scipy/reference/tutorial/optimize.html.\n",
    "\n",
    "We just need to pass it backprop, our initial guess (random initializations of our parameters), and the same variables we gave backprop. Then scipy will do the rest!"
   ]
  },
  {
   "cell_type": "code",
   "execution_count": 140,
   "metadata": {},
   "outputs": [
    {
     "data": {
      "text/plain": [
       "     fun: 0.5951301856444693\n",
       "     jac: array([-1.54163741e-04,  0.00000000e+00,  0.00000000e+00, ...,\n",
       "       -1.67799012e-03, -1.24871755e-03,  1.79462599e-05])\n",
       " message: 'Converged (|f_n-f_(n-1)| ~= 0)'\n",
       "    nfev: 147\n",
       "     nit: 13\n",
       "  status: 1\n",
       " success: True\n",
       "       x: array([ 0.32392168, -0.10670771,  0.04667098, ...,  0.49888424,\n",
       "       -1.09725559, -2.55229412])"
      ]
     },
     "execution_count": 140,
     "metadata": {},
     "output_type": "execute_result"
    }
   ],
   "source": [
    "from scipy.optimize import minimize\n",
    "\n",
    "# minimize our cost function\n",
    "res = minimize(fun=backprop, x0=params, args=(input_size, hidden_size, num_labels, X, y_onehot, reg), \n",
    "                method='TNC', jac=True, options={'maxiter': 250})\n",
    "res"
   ]
  },
  {
   "cell_type": "markdown",
   "metadata": {},
   "source": [
    "We converged~ yay~ \n",
    "\n",
    "As you can see, this function outputs a solution array containing the optimized values of our parameters. Our total cost is below 0.6, so at that's an encouraging sign that we've done something right. Now we can use our optimized parameter values from the solution arrary, forward propagate them through our network, and make some predictions."
   ]
  },
  {
   "cell_type": "code",
   "execution_count": 141,
   "metadata": {},
   "outputs": [],
   "source": [
    "# reshape the our theta vectors into theta matrices for the hidden layer and the output layer \n",
    "# this time using the solution array\n",
    "theta1 = res.x[0:(hidden_size * (input_size + 1))].reshape(hidden_size, (input_size + 1))\n",
    "theta2 = res.x[(hidden_size * (input_size + 1)):].reshape(num_labels, (hidden_size + 1))\n",
    "\n",
    "a1, z2, a2, z3, h = forward_propagate(X, theta1, theta2)\n",
    "\n",
    "#because of python indexing add one to get true value predictions\n",
    "predictions = np.array(np.argmax(h, axis=1) + 1)"
   ]
  },
  {
   "cell_type": "markdown",
   "metadata": {},
   "source": [
    "At long last we can finally see if our neural network makes decent predictions. The way to do this is by comparing our network's output with the true label. Then, we can divide our total number of successes by the number of guesses we made, in our case, 5,000. This metric is called accuracy.\n",
    "\n",
    "To my great shame, dear reader, there is a for-loop below. I hope you will find it in your heart to forgive me."
   ]
  },
  {
   "cell_type": "code",
   "execution_count": 142,
   "metadata": {},
   "outputs": [
    {
     "name": "stdout",
     "output_type": "stream",
     "text": [
      "accuracy = 94.38%\n"
     ]
    }
   ],
   "source": [
    "correct = [1 if a == b else 0 for (a, b) in zip(predictions, y)]\n",
    "accuracy = (sum(map(int, correct)) / len(correct))\n",
    "print('accuracy = {0}%'.format(accuracy * 100))"
   ]
  },
  {
   "cell_type": "markdown",
   "metadata": {},
   "source": [
    "Too legit! Due to random intialization, the accuracy might jump around by 2% or so, but this is a nice result, very similar to what Andrew Ng's exercise indicated we should expect.\n",
    "\n",
    "Should we take a deeper look at the artificial brain we just cooked up? Of course we should! Remember our theta1? The parameter matrix of our network's hidden layer? Well, it turns out we can use those parameter values to visualize the picture features our network was learning at that point in training. Let's pry open this neural blackbox and take a look under the hood!"
   ]
  },
  {
   "cell_type": "code",
   "execution_count": 157,
   "metadata": {},
   "outputs": [
    {
     "data": {
      "text/plain": [
       "<matplotlib.image.AxesImage at 0x265800786d8>"
      ]
     },
     "execution_count": 157,
     "metadata": {},
     "output_type": "execute_result"
    },
    {
     "data": {
      "image/png": "[encoded data removed]",
      "text/plain": [
       "<Figure size 1152x1152 with 1 Axes>"
      ]
     },
     "metadata": {},
     "output_type": "display_data"
    }
   ],
   "source": [
    "ran_samp = np.random.choice(theta1.shape[0], 20)\n",
    "plt.figure(figsize = (16, 16))\n",
    "plt.imshow(theta1[ran_samp, 1:].reshape(-1, 20).T, cmap = cm.Greys_r)"
   ]
  },
  {
   "cell_type": "markdown",
   "metadata": {},
   "source": [
    "Woah! You can almost see numbers starting to form, like the network is beginning to understand what a handwritten number might look like.\n",
    "\n",
    "We just coded up a completely vectorized, feed-forward neural network with backpropagation without using any neural network libraries like Tensorflow, Pytorch or Theano. We then used our network to classify images of handwritten digits, which is an important task in computer vision. \n",
    "\n",
    "Now, let's check out Keras, a neural network library in Python, and build our neural network there as well.\n",
    "\n",
    "We've actually been cheating by training our network and testing our network on the same data set. In order to get an idea of how accurately our model will perform in a real world scenario, we need to divide our data into a training set and a test or validation set. In small data settings, like this one, this is typically done by allocating 80% of the data to the training set and 20% to the test set. However, we're now faced with a problem: our data is logically ordered! This is bad because it will limit our model's exposure certain data types. We can overcome this combining the data into a pandas dataframe and randomly shuffling it with scikit learn."
   ]
  },
  {
   "cell_type": "code",
   "execution_count": 158,
   "metadata": {},
   "outputs": [],
   "source": [
    "import pandas as pd\n",
    "data2 = pd.DataFrame(data['X'])\n",
    "\n",
    "#add y to the new dataframe\n",
    "data2['y'] = data['y']\n",
    "\n",
    "from sklearn.utils import shuffle\n",
    "data2 = shuffle(data2)"
   ]
  },
  {
   "cell_type": "code",
   "execution_count": 159,
   "metadata": {},
   "outputs": [],
   "source": [
    "#reconvert to appropriate dimensions\n",
    "y = np.matrix(data2['y']).T\n",
    "X = data2.iloc[:,0:400]"
   ]
  },
  {
   "cell_type": "markdown",
   "metadata": {},
   "source": [
    "Now we can once again use scikit learn to create our one-hot encoded vectors and additionally we can use it to split our data up into 80% for training and 20% for testing."
   ]
  },
  {
   "cell_type": "code",
   "execution_count": 163,
   "metadata": {},
   "outputs": [
    {
     "data": {
      "text/plain": [
       "((4000, 400), (1000, 400), (4000, 10), (1000, 10))"
      ]
     },
     "execution_count": 163,
     "metadata": {},
     "output_type": "execute_result"
    }
   ],
   "source": [
    "from sklearn.preprocessing import OneHotEncoder\n",
    "from sklearn.model_selection import train_test_split\n",
    "\n",
    "encoder = OneHotEncoder(sparse=False)\n",
    "y_onehot = encoder.fit_transform(y)\n",
    "\n",
    "X_train, X_test, y_train, y_test = train_test_split(X, y_onehot, test_size=0.2)\n",
    "\n",
    "X_train.shape, X_test.shape, y_train.shape, y_test.shape"
   ]
  },
  {
   "cell_type": "markdown",
   "metadata": {},
   "source": [
    "Now let's build our network! We'll use Sequential to indicate that the layers of our model are linearly ordered. We then use Dense to indicate that each unit or neuron is connected to each unit or neuron in the next layer.\n",
    "\n",
    "We will add one hidden layer with 25 units or neurons where we will use a softmax activation function, which is simply the logistic or sigmoid function. The input shape the hidden layer matches the number of features in our model, in this case 400 (20x20 pixel images). Our output layer will also use the softmax activation function, but with only 10 neurons corresponding to the 10 (0-9) possible values we're trying to predict.\n",
    "\n",
    "To be consistent with Andrew Ng, let's use the softmax function, but there are other activation functions availble, even more useful than our beloved sigmoid function. Check them out and play with them: https://keras.io/activations/\n",
    "\n",
    "Note that, in this case, the final layer should use softmax activation in order to yield a probability."
   ]
  },
  {
   "cell_type": "code",
   "execution_count": 165,
   "metadata": {},
   "outputs": [],
   "source": [
    "from keras.models import Sequential\n",
    "from keras.layers import Dense\n",
    " \n",
    "model = Sequential()\n",
    "model.add(Dense(25, activation='softmax', input_shape=(400,)))\n",
    "model.add(Dense(10, activation='softmax'))"
   ]
  },
  {
   "cell_type": "markdown",
   "metadata": {},
   "source": [
    "Now we'll configure the model. My choices for the optimizer and cost function are mostly arbitrary, similar to the optimization function chosen above. Feel free to play around with them and check out how the results change!\n",
    "For more info see:\n",
    "\n",
    "\n",
    "https://keras.io/losses/   \n",
    "https://keras.io/optimizers/."
   ]
  },
  {
   "cell_type": "code",
   "execution_count": 166,
   "metadata": {},
   "outputs": [],
   "source": [
    "model.compile(optimizer='rmsprop', loss='categorical_crossentropy', metrics=['accuracy'])"
   ]
  },
  {
   "cell_type": "markdown",
   "metadata": {},
   "source": [
    "Batch size is the number of training samples we forward propogate into the network at a time. Epochs just mean the number of times the network sees the data (iterations).\n",
    "\n",
    "In general, larger batch sizes result in faster progress in training, but don't always converge as fast. Smaller batch sizes train slower, but can converge faster. Models typically improve with more epochs of training, to a point. They'll start to plateau in accuracy as they converge.\n",
    "\n",
    "We'll save our model as history so we can use the values later for drawing plots"
   ]
  },
  {
   "cell_type": "code",
   "execution_count": 167,
   "metadata": {},
   "outputs": [
    {
     "name": "stdout",
     "output_type": "stream",
     "text": [
      "Train on 4000 samples, validate on 1000 samples\n",
      "Epoch 1/250\n",
      "4000/4000 [==============================] - 0s 99us/step - loss: 2.2624 - acc: 0.2915 - val_loss: 2.2285 - val_acc: 0.4320\n",
      "Epoch 2/250\n",
      "4000/4000 [==============================] - 0s 16us/step - loss: 2.1908 - acc: 0.5700 - val_loss: 2.1597 - val_acc: 0.5920\n",
      "Epoch 3/250\n",
      "4000/4000 [==============================] - 0s 16us/step - loss: 2.1176 - acc: 0.6292 - val_loss: 2.0896 - val_acc: 0.6020\n",
      "Epoch 4/250\n",
      "4000/4000 [==============================] - 0s 16us/step - loss: 2.0505 - acc: 0.6370 - val_loss: 2.0300 - val_acc: 0.6020\n",
      "Epoch 5/250\n",
      "4000/4000 [==============================] - 0s 16us/step - loss: 1.9931 - acc: 0.6245 - val_loss: 1.9770 - val_acc: 0.5870\n",
      "Epoch 6/250\n",
      "4000/4000 [==============================] - 0s 16us/step - loss: 1.9415 - acc: 0.6225 - val_loss: 1.9284 - val_acc: 0.6070\n",
      "Epoch 7/250\n",
      "4000/4000 [==============================] - 0s 16us/step - loss: 1.8922 - acc: 0.6510 - val_loss: 1.8792 - val_acc: 0.6470\n",
      "Epoch 8/250\n",
      "4000/4000 [==============================] - 0s 17us/step - loss: 1.8427 - acc: 0.6927 - val_loss: 1.8313 - val_acc: 0.6860\n",
      "Epoch 9/250\n",
      "4000/4000 [==============================] - 0s 19us/step - loss: 1.7952 - acc: 0.7198 - val_loss: 1.7846 - val_acc: 0.7040\n",
      "Epoch 10/250\n",
      "4000/4000 [==============================] - 0s 17us/step - loss: 1.7503 - acc: 0.7355 - val_loss: 1.7413 - val_acc: 0.7230\n",
      "Epoch 11/250\n",
      "4000/4000 [==============================] - 0s 16us/step - loss: 1.7073 - acc: 0.7428 - val_loss: 1.6986 - val_acc: 0.7400\n",
      "Epoch 12/250\n",
      "4000/4000 [==============================] - 0s 16us/step - loss: 1.6654 - acc: 0.7555 - val_loss: 1.6581 - val_acc: 0.7420\n",
      "Epoch 13/250\n",
      "4000/4000 [==============================] - 0s 16us/step - loss: 1.6251 - acc: 0.7640 - val_loss: 1.6189 - val_acc: 0.7530\n",
      "Epoch 14/250\n",
      "4000/4000 [==============================] - 0s 16us/step - loss: 1.5861 - acc: 0.7692 - val_loss: 1.5807 - val_acc: 0.7610\n",
      "Epoch 15/250\n",
      "4000/4000 [==============================] - 0s 16us/step - loss: 1.5479 - acc: 0.7755 - val_loss: 1.5434 - val_acc: 0.7610\n",
      "Epoch 16/250\n",
      "4000/4000 [==============================] - 0s 16us/step - loss: 1.5105 - acc: 0.7752 - val_loss: 1.5066 - val_acc: 0.7700\n",
      "Epoch 17/250\n",
      "4000/4000 [==============================] - 0s 16us/step - loss: 1.4738 - acc: 0.7765 - val_loss: 1.4712 - val_acc: 0.7700\n",
      "Epoch 18/250\n",
      "4000/4000 [==============================] - 0s 16us/step - loss: 1.4376 - acc: 0.7775 - val_loss: 1.4363 - val_acc: 0.7800\n",
      "Epoch 19/250\n",
      "4000/4000 [==============================] - 0s 16us/step - loss: 1.4024 - acc: 0.7903 - val_loss: 1.4027 - val_acc: 0.7840\n",
      "Epoch 20/250\n",
      "4000/4000 [==============================] - 0s 16us/step - loss: 1.3677 - acc: 0.7953 - val_loss: 1.3695 - val_acc: 0.7890\n",
      "Epoch 21/250\n",
      "4000/4000 [==============================] - 0s 16us/step - loss: 1.3334 - acc: 0.8005 - val_loss: 1.3361 - val_acc: 0.7970\n",
      "Epoch 22/250\n",
      "4000/4000 [==============================] - 0s 16us/step - loss: 1.2994 - acc: 0.8073 - val_loss: 1.3033 - val_acc: 0.8020\n",
      "Epoch 23/250\n",
      "4000/4000 [==============================] - 0s 16us/step - loss: 1.2653 - acc: 0.8115 - val_loss: 1.2709 - val_acc: 0.8080\n",
      "Epoch 24/250\n",
      "4000/4000 [==============================] - 0s 16us/step - loss: 1.2314 - acc: 0.8165 - val_loss: 1.2384 - val_acc: 0.8100\n",
      "Epoch 25/250\n",
      "4000/4000 [==============================] - 0s 16us/step - loss: 1.1985 - acc: 0.8247 - val_loss: 1.2073 - val_acc: 0.8150\n",
      "Epoch 26/250\n",
      "4000/4000 [==============================] - 0s 17us/step - loss: 1.1660 - acc: 0.8327 - val_loss: 1.1764 - val_acc: 0.8180\n",
      "Epoch 27/250\n",
      "4000/4000 [==============================] - 0s 18us/step - loss: 1.1342 - acc: 0.8363 - val_loss: 1.1464 - val_acc: 0.8170\n",
      "Epoch 28/250\n",
      "4000/4000 [==============================] - 0s 19us/step - loss: 1.1028 - acc: 0.8395 - val_loss: 1.1162 - val_acc: 0.8340\n",
      "Epoch 29/250\n",
      "4000/4000 [==============================] - 0s 19us/step - loss: 1.0719 - acc: 0.8735 - val_loss: 1.0869 - val_acc: 0.8560\n",
      "Epoch 30/250\n",
      "4000/4000 [==============================] - 0s 17us/step - loss: 1.0416 - acc: 0.8868 - val_loss: 1.0581 - val_acc: 0.8620\n",
      "Epoch 31/250\n",
      "4000/4000 [==============================] - 0s 17us/step - loss: 1.0118 - acc: 0.8935 - val_loss: 1.0301 - val_acc: 0.8640\n",
      "Epoch 32/250\n",
      "4000/4000 [==============================] - 0s 17us/step - loss: 0.9822 - acc: 0.8962 - val_loss: 1.0022 - val_acc: 0.8660\n",
      "Epoch 33/250\n",
      "4000/4000 [==============================] - 0s 17us/step - loss: 0.9532 - acc: 0.9008 - val_loss: 0.9741 - val_acc: 0.8740\n",
      "Epoch 34/250\n",
      "4000/4000 [==============================] - 0s 17us/step - loss: 0.9248 - acc: 0.9025 - val_loss: 0.9479 - val_acc: 0.8770\n",
      "Epoch 35/250\n",
      "4000/4000 [==============================] - 0s 18us/step - loss: 0.8969 - acc: 0.9052 - val_loss: 0.9221 - val_acc: 0.8780\n",
      "Epoch 36/250\n",
      "4000/4000 [==============================] - 0s 16us/step - loss: 0.8699 - acc: 0.9077 - val_loss: 0.8962 - val_acc: 0.8790\n",
      "Epoch 37/250\n",
      "4000/4000 [==============================] - 0s 17us/step - loss: 0.8433 - acc: 0.9107 - val_loss: 0.8717 - val_acc: 0.8830\n",
      "Epoch 38/250\n",
      "4000/4000 [==============================] - 0s 16us/step - loss: 0.8172 - acc: 0.9130 - val_loss: 0.8473 - val_acc: 0.8860\n",
      "Epoch 39/250\n",
      "4000/4000 [==============================] - 0s 16us/step - loss: 0.7920 - acc: 0.9147 - val_loss: 0.8239 - val_acc: 0.8910\n",
      "Epoch 40/250\n",
      "4000/4000 [==============================] - 0s 17us/step - loss: 0.7670 - acc: 0.9170 - val_loss: 0.8006 - val_acc: 0.8930\n",
      "Epoch 41/250\n",
      "4000/4000 [==============================] - 0s 16us/step - loss: 0.7430 - acc: 0.9177 - val_loss: 0.7787 - val_acc: 0.8960\n",
      "Epoch 42/250\n",
      "4000/4000 [==============================] - 0s 16us/step - loss: 0.7193 - acc: 0.9203 - val_loss: 0.7570 - val_acc: 0.8950\n",
      "Epoch 43/250\n",
      "4000/4000 [==============================] - 0s 16us/step - loss: 0.6965 - acc: 0.9220 - val_loss: 0.7366 - val_acc: 0.8970\n",
      "Epoch 44/250\n",
      "4000/4000 [==============================] - 0s 16us/step - loss: 0.6740 - acc: 0.9250 - val_loss: 0.7167 - val_acc: 0.8970\n",
      "Epoch 45/250\n",
      "4000/4000 [==============================] - 0s 16us/step - loss: 0.6521 - acc: 0.9270 - val_loss: 0.6965 - val_acc: 0.8980\n",
      "Epoch 46/250\n",
      "4000/4000 [==============================] - 0s 19us/step - loss: 0.6310 - acc: 0.9283 - val_loss: 0.6765 - val_acc: 0.9040\n",
      "Epoch 47/250\n",
      "4000/4000 [==============================] - 0s 18us/step - loss: 0.6106 - acc: 0.9305 - val_loss: 0.6583 - val_acc: 0.9020\n",
      "Epoch 48/250\n",
      "4000/4000 [==============================] - 0s 18us/step - loss: 0.5907 - acc: 0.9315 - val_loss: 0.6416 - val_acc: 0.9020\n",
      "Epoch 49/250\n",
      "4000/4000 [==============================] - 0s 17us/step - loss: 0.5720 - acc: 0.9338 - val_loss: 0.6230 - val_acc: 0.9020\n",
      "Epoch 50/250\n",
      "4000/4000 [==============================] - 0s 16us/step - loss: 0.5535 - acc: 0.9355 - val_loss: 0.6057 - val_acc: 0.9070\n",
      "Epoch 51/250\n",
      "4000/4000 [==============================] - 0s 16us/step - loss: 0.5355 - acc: 0.9375 - val_loss: 0.5894 - val_acc: 0.9070\n",
      "Epoch 52/250\n",
      "4000/4000 [==============================] - 0s 17us/step - loss: 0.5183 - acc: 0.9385 - val_loss: 0.5758 - val_acc: 0.9080\n",
      "Epoch 53/250\n",
      "4000/4000 [==============================] - 0s 17us/step - loss: 0.5019 - acc: 0.9390 - val_loss: 0.5613 - val_acc: 0.9090\n",
      "Epoch 54/250\n",
      "4000/4000 [==============================] - 0s 16us/step - loss: 0.4861 - acc: 0.9403 - val_loss: 0.5464 - val_acc: 0.9090\n",
      "Epoch 55/250\n",
      "4000/4000 [==============================] - 0s 16us/step - loss: 0.4704 - acc: 0.9420 - val_loss: 0.5325 - val_acc: 0.9080\n",
      "Epoch 56/250\n",
      "4000/4000 [==============================] - 0s 16us/step - loss: 0.4556 - acc: 0.9442 - val_loss: 0.5193 - val_acc: 0.9120\n",
      "Epoch 57/250\n",
      "4000/4000 [==============================] - 0s 16us/step - loss: 0.4414 - acc: 0.9453 - val_loss: 0.5076 - val_acc: 0.9090\n",
      "Epoch 58/250\n",
      "4000/4000 [==============================] - 0s 16us/step - loss: 0.4275 - acc: 0.9465 - val_loss: 0.4949 - val_acc: 0.9120\n",
      "Epoch 59/250\n",
      "4000/4000 [==============================] - 0s 16us/step - loss: 0.4145 - acc: 0.9475 - val_loss: 0.4834 - val_acc: 0.9120\n",
      "Epoch 60/250\n"
     ]
    },
    {
     "name": "stdout",
     "output_type": "stream",
     "text": [
      "4000/4000 [==============================] - 0s 18us/step - loss: 0.4019 - acc: 0.9485 - val_loss: 0.4725 - val_acc: 0.9150\n",
      "Epoch 61/250\n",
      "4000/4000 [==============================] - 0s 16us/step - loss: 0.3898 - acc: 0.9485 - val_loss: 0.4618 - val_acc: 0.9160\n",
      "Epoch 62/250\n",
      "4000/4000 [==============================] - 0s 16us/step - loss: 0.3782 - acc: 0.9500 - val_loss: 0.4520 - val_acc: 0.9160\n",
      "Epoch 63/250\n",
      "4000/4000 [==============================] - 0s 17us/step - loss: 0.3673 - acc: 0.9513 - val_loss: 0.4430 - val_acc: 0.9200\n",
      "Epoch 64/250\n",
      "4000/4000 [==============================] - 0s 16us/step - loss: 0.3566 - acc: 0.9517 - val_loss: 0.4336 - val_acc: 0.9180\n",
      "Epoch 65/250\n",
      "4000/4000 [==============================] - 0s 19us/step - loss: 0.3466 - acc: 0.9525 - val_loss: 0.4238 - val_acc: 0.9170\n",
      "Epoch 66/250\n",
      "4000/4000 [==============================] - 0s 18us/step - loss: 0.3366 - acc: 0.9532 - val_loss: 0.4154 - val_acc: 0.9160\n",
      "Epoch 67/250\n",
      "4000/4000 [==============================] - 0s 16us/step - loss: 0.3273 - acc: 0.9532 - val_loss: 0.4079 - val_acc: 0.9160\n",
      "Epoch 68/250\n",
      "4000/4000 [==============================] - 0s 16us/step - loss: 0.3184 - acc: 0.9540 - val_loss: 0.4001 - val_acc: 0.9160\n",
      "Epoch 69/250\n",
      "4000/4000 [==============================] - 0s 16us/step - loss: 0.3096 - acc: 0.9540 - val_loss: 0.3926 - val_acc: 0.9180\n",
      "Epoch 70/250\n",
      "4000/4000 [==============================] - 0s 16us/step - loss: 0.3015 - acc: 0.9540 - val_loss: 0.3853 - val_acc: 0.9190\n",
      "Epoch 71/250\n",
      "4000/4000 [==============================] - 0s 16us/step - loss: 0.2935 - acc: 0.9560 - val_loss: 0.3794 - val_acc: 0.9200\n",
      "Epoch 72/250\n",
      "4000/4000 [==============================] - 0s 15us/step - loss: 0.2862 - acc: 0.9555 - val_loss: 0.3737 - val_acc: 0.9200\n",
      "Epoch 73/250\n",
      "4000/4000 [==============================] - 0s 16us/step - loss: 0.2790 - acc: 0.9560 - val_loss: 0.3678 - val_acc: 0.9200\n",
      "Epoch 74/250\n",
      "4000/4000 [==============================] - 0s 16us/step - loss: 0.2721 - acc: 0.9562 - val_loss: 0.3622 - val_acc: 0.9210\n",
      "Epoch 75/250\n",
      "4000/4000 [==============================] - 0s 16us/step - loss: 0.2656 - acc: 0.9570 - val_loss: 0.3567 - val_acc: 0.9200\n",
      "Epoch 76/250\n",
      "4000/4000 [==============================] - 0s 16us/step - loss: 0.2592 - acc: 0.9575 - val_loss: 0.3513 - val_acc: 0.9200\n",
      "Epoch 77/250\n",
      "4000/4000 [==============================] - 0s 15us/step - loss: 0.2532 - acc: 0.9585 - val_loss: 0.3463 - val_acc: 0.9210\n",
      "Epoch 78/250\n",
      "4000/4000 [==============================] - 0s 16us/step - loss: 0.2473 - acc: 0.9587 - val_loss: 0.3413 - val_acc: 0.9190\n",
      "Epoch 79/250\n",
      "4000/4000 [==============================] - 0s 16us/step - loss: 0.2418 - acc: 0.9597 - val_loss: 0.3377 - val_acc: 0.9180\n",
      "Epoch 80/250\n",
      "4000/4000 [==============================] - 0s 18us/step - loss: 0.2365 - acc: 0.9592 - val_loss: 0.3333 - val_acc: 0.9180\n",
      "Epoch 81/250\n",
      "4000/4000 [==============================] - 0s 16us/step - loss: 0.2317 - acc: 0.9613 - val_loss: 0.3304 - val_acc: 0.9210\n",
      "Epoch 82/250\n",
      "4000/4000 [==============================] - 0s 17us/step - loss: 0.2268 - acc: 0.9627 - val_loss: 0.3284 - val_acc: 0.9210\n",
      "Epoch 83/250\n",
      "4000/4000 [==============================] - 0s 16us/step - loss: 0.2221 - acc: 0.9630 - val_loss: 0.3242 - val_acc: 0.9190\n",
      "Epoch 84/250\n",
      "4000/4000 [==============================] - 0s 18us/step - loss: 0.2177 - acc: 0.9630 - val_loss: 0.3207 - val_acc: 0.9190\n",
      "Epoch 85/250\n",
      "4000/4000 [==============================] - 0s 18us/step - loss: 0.2130 - acc: 0.9640 - val_loss: 0.3190 - val_acc: 0.9200\n",
      "Epoch 86/250\n",
      "4000/4000 [==============================] - 0s 17us/step - loss: 0.2093 - acc: 0.9633 - val_loss: 0.3152 - val_acc: 0.9220\n",
      "Epoch 87/250\n",
      "4000/4000 [==============================] - 0s 16us/step - loss: 0.2053 - acc: 0.9655 - val_loss: 0.3138 - val_acc: 0.9240\n",
      "Epoch 88/250\n",
      "4000/4000 [==============================] - 0s 16us/step - loss: 0.2017 - acc: 0.9652 - val_loss: 0.3105 - val_acc: 0.9240\n",
      "Epoch 89/250\n",
      "4000/4000 [==============================] - 0s 16us/step - loss: 0.1980 - acc: 0.9660 - val_loss: 0.3094 - val_acc: 0.9220\n",
      "Epoch 90/250\n",
      "4000/4000 [==============================] - 0s 16us/step - loss: 0.1945 - acc: 0.9660 - val_loss: 0.3089 - val_acc: 0.9220\n",
      "Epoch 91/250\n",
      "4000/4000 [==============================] - 0s 16us/step - loss: 0.1913 - acc: 0.9663 - val_loss: 0.3048 - val_acc: 0.9240\n",
      "Epoch 92/250\n",
      "4000/4000 [==============================] - 0s 16us/step - loss: 0.1879 - acc: 0.9667 - val_loss: 0.3038 - val_acc: 0.9240\n",
      "Epoch 93/250\n",
      "4000/4000 [==============================] - 0s 16us/step - loss: 0.1850 - acc: 0.9673 - val_loss: 0.3032 - val_acc: 0.9250\n",
      "Epoch 94/250\n",
      "4000/4000 [==============================] - 0s 16us/step - loss: 0.1823 - acc: 0.9665 - val_loss: 0.3012 - val_acc: 0.9260\n",
      "Epoch 95/250\n",
      "4000/4000 [==============================] - 0s 16us/step - loss: 0.1792 - acc: 0.9680 - val_loss: 0.2991 - val_acc: 0.9250\n",
      "Epoch 96/250\n",
      "4000/4000 [==============================] - 0s 15us/step - loss: 0.1766 - acc: 0.9680 - val_loss: 0.2973 - val_acc: 0.9250\n",
      "Epoch 97/250\n",
      "4000/4000 [==============================] - 0s 16us/step - loss: 0.1742 - acc: 0.9680 - val_loss: 0.2973 - val_acc: 0.9250\n",
      "Epoch 98/250\n",
      "4000/4000 [==============================] - 0s 16us/step - loss: 0.1715 - acc: 0.9677 - val_loss: 0.2970 - val_acc: 0.9270\n",
      "Epoch 99/250\n",
      "4000/4000 [==============================] - 0s 16us/step - loss: 0.1691 - acc: 0.9688 - val_loss: 0.2949 - val_acc: 0.9250\n",
      "Epoch 100/250\n",
      "4000/4000 [==============================] - 0s 16us/step - loss: 0.1668 - acc: 0.9690 - val_loss: 0.2952 - val_acc: 0.9240\n",
      "Epoch 101/250\n",
      "4000/4000 [==============================] - 0s 16us/step - loss: 0.1646 - acc: 0.9688 - val_loss: 0.2950 - val_acc: 0.9260\n",
      "Epoch 102/250\n",
      "4000/4000 [==============================] - 0s 18us/step - loss: 0.1623 - acc: 0.9690 - val_loss: 0.2927 - val_acc: 0.9260\n",
      "Epoch 103/250\n",
      "4000/4000 [==============================] - 0s 20us/step - loss: 0.1605 - acc: 0.9693 - val_loss: 0.2944 - val_acc: 0.9250\n",
      "Epoch 104/250\n",
      "4000/4000 [==============================] - 0s 20us/step - loss: 0.1583 - acc: 0.9700 - val_loss: 0.2930 - val_acc: 0.9240\n",
      "Epoch 105/250\n",
      "4000/4000 [==============================] - 0s 17us/step - loss: 0.1565 - acc: 0.9702 - val_loss: 0.2933 - val_acc: 0.9270\n",
      "Epoch 106/250\n",
      "4000/4000 [==============================] - 0s 16us/step - loss: 0.1548 - acc: 0.9702 - val_loss: 0.2918 - val_acc: 0.9240\n",
      "Epoch 107/250\n",
      "4000/4000 [==============================] - 0s 16us/step - loss: 0.1527 - acc: 0.9705 - val_loss: 0.2890 - val_acc: 0.9270\n",
      "Epoch 108/250\n",
      "4000/4000 [==============================] - 0s 16us/step - loss: 0.1508 - acc: 0.9712 - val_loss: 0.2917 - val_acc: 0.9270\n",
      "Epoch 109/250\n",
      "4000/4000 [==============================] - 0s 16us/step - loss: 0.1494 - acc: 0.9710 - val_loss: 0.2908 - val_acc: 0.9250\n",
      "Epoch 110/250\n",
      "4000/4000 [==============================] - 0s 16us/step - loss: 0.1477 - acc: 0.9712 - val_loss: 0.2893 - val_acc: 0.9240\n",
      "Epoch 111/250\n",
      "4000/4000 [==============================] - 0s 16us/step - loss: 0.1461 - acc: 0.9712 - val_loss: 0.2894 - val_acc: 0.9240\n",
      "Epoch 112/250\n",
      "4000/4000 [==============================] - 0s 16us/step - loss: 0.1447 - acc: 0.9715 - val_loss: 0.2926 - val_acc: 0.9230\n",
      "Epoch 113/250\n",
      "4000/4000 [==============================] - 0s 16us/step - loss: 0.1430 - acc: 0.9720 - val_loss: 0.2898 - val_acc: 0.9260\n",
      "Epoch 114/250\n",
      "4000/4000 [==============================] - 0s 16us/step - loss: 0.1416 - acc: 0.9715 - val_loss: 0.2897 - val_acc: 0.9230\n",
      "Epoch 115/250\n",
      "4000/4000 [==============================] - 0s 16us/step - loss: 0.1406 - acc: 0.9723 - val_loss: 0.2905 - val_acc: 0.9240\n",
      "Epoch 116/250\n",
      "4000/4000 [==============================] - 0s 16us/step - loss: 0.1389 - acc: 0.9720 - val_loss: 0.2885 - val_acc: 0.9230\n",
      "Epoch 117/250\n",
      "4000/4000 [==============================] - 0s 16us/step - loss: 0.1377 - acc: 0.9730 - val_loss: 0.2899 - val_acc: 0.9250\n",
      "Epoch 118/250\n",
      "4000/4000 [==============================] - 0s 16us/step - loss: 0.1363 - acc: 0.9728 - val_loss: 0.2913 - val_acc: 0.9250\n",
      "Epoch 119/250\n",
      "4000/4000 [==============================] - 0s 16us/step - loss: 0.1352 - acc: 0.9730 - val_loss: 0.2886 - val_acc: 0.9210\n"
     ]
    },
    {
     "name": "stdout",
     "output_type": "stream",
     "text": [
      "Epoch 120/250\n",
      "4000/4000 [==============================] - 0s 16us/step - loss: 0.1343 - acc: 0.9725 - val_loss: 0.2906 - val_acc: 0.9230\n",
      "Epoch 121/250\n",
      "4000/4000 [==============================] - 0s 16us/step - loss: 0.1329 - acc: 0.9725 - val_loss: 0.2911 - val_acc: 0.9220\n",
      "Epoch 122/250\n",
      "4000/4000 [==============================] - 0s 17us/step - loss: 0.1320 - acc: 0.9728 - val_loss: 0.2897 - val_acc: 0.9240\n",
      "Epoch 123/250\n",
      "4000/4000 [==============================] - 0s 19us/step - loss: 0.1307 - acc: 0.9730 - val_loss: 0.2896 - val_acc: 0.9230\n",
      "Epoch 124/250\n",
      "4000/4000 [==============================] - 0s 17us/step - loss: 0.1292 - acc: 0.9725 - val_loss: 0.2929 - val_acc: 0.9230\n",
      "Epoch 125/250\n",
      "4000/4000 [==============================] - 0s 20us/step - loss: 0.1285 - acc: 0.9738 - val_loss: 0.2914 - val_acc: 0.9220\n",
      "Epoch 126/250\n",
      "4000/4000 [==============================] - 0s 16us/step - loss: 0.1274 - acc: 0.9735 - val_loss: 0.2896 - val_acc: 0.9210\n",
      "Epoch 127/250\n",
      "4000/4000 [==============================] - 0s 16us/step - loss: 0.1264 - acc: 0.9732 - val_loss: 0.2913 - val_acc: 0.9230\n",
      "Epoch 128/250\n",
      "4000/4000 [==============================] - 0s 16us/step - loss: 0.1255 - acc: 0.9730 - val_loss: 0.2912 - val_acc: 0.9220\n",
      "Epoch 129/250\n",
      "4000/4000 [==============================] - 0s 16us/step - loss: 0.1244 - acc: 0.9738 - val_loss: 0.2911 - val_acc: 0.9210\n",
      "Epoch 130/250\n",
      "4000/4000 [==============================] - 0s 16us/step - loss: 0.1234 - acc: 0.9738 - val_loss: 0.2922 - val_acc: 0.9220\n",
      "Epoch 131/250\n",
      "4000/4000 [==============================] - 0s 16us/step - loss: 0.1222 - acc: 0.9742 - val_loss: 0.2920 - val_acc: 0.9200\n",
      "Epoch 132/250\n",
      "4000/4000 [==============================] - 0s 16us/step - loss: 0.1213 - acc: 0.9738 - val_loss: 0.2906 - val_acc: 0.9220\n",
      "Epoch 133/250\n",
      "4000/4000 [==============================] - 0s 16us/step - loss: 0.1203 - acc: 0.9740 - val_loss: 0.2945 - val_acc: 0.9210\n",
      "Epoch 134/250\n",
      "4000/4000 [==============================] - 0s 16us/step - loss: 0.1196 - acc: 0.9742 - val_loss: 0.2934 - val_acc: 0.9210\n",
      "Epoch 135/250\n",
      "4000/4000 [==============================] - 0s 16us/step - loss: 0.1184 - acc: 0.9748 - val_loss: 0.2939 - val_acc: 0.9220\n",
      "Epoch 136/250\n",
      "4000/4000 [==============================] - 0s 16us/step - loss: 0.1177 - acc: 0.9753 - val_loss: 0.2935 - val_acc: 0.9190\n",
      "Epoch 137/250\n",
      "4000/4000 [==============================] - 0s 16us/step - loss: 0.1167 - acc: 0.9753 - val_loss: 0.2916 - val_acc: 0.9200\n",
      "Epoch 138/250\n",
      "4000/4000 [==============================] - 0s 16us/step - loss: 0.1159 - acc: 0.9755 - val_loss: 0.2923 - val_acc: 0.9210\n",
      "Epoch 139/250\n",
      "4000/4000 [==============================] - 0s 16us/step - loss: 0.1152 - acc: 0.9762 - val_loss: 0.2937 - val_acc: 0.9230\n",
      "Epoch 140/250\n",
      "4000/4000 [==============================] - 0s 16us/step - loss: 0.1143 - acc: 0.9758 - val_loss: 0.2963 - val_acc: 0.9200\n",
      "Epoch 141/250\n",
      "4000/4000 [==============================] - 0s 17us/step - loss: 0.1134 - acc: 0.9762 - val_loss: 0.2954 - val_acc: 0.9240\n",
      "Epoch 142/250\n",
      "4000/4000 [==============================] - 0s 16us/step - loss: 0.1124 - acc: 0.9760 - val_loss: 0.2964 - val_acc: 0.9200\n",
      "Epoch 143/250\n",
      "4000/4000 [==============================] - 0s 18us/step - loss: 0.1118 - acc: 0.9765 - val_loss: 0.2949 - val_acc: 0.9210\n",
      "Epoch 144/250\n",
      "4000/4000 [==============================] - 0s 18us/step - loss: 0.1110 - acc: 0.9768 - val_loss: 0.2963 - val_acc: 0.9200\n",
      "Epoch 145/250\n",
      "4000/4000 [==============================] - 0s 17us/step - loss: 0.1103 - acc: 0.9772 - val_loss: 0.2963 - val_acc: 0.9200\n",
      "Epoch 146/250\n",
      "4000/4000 [==============================] - 0s 16us/step - loss: 0.1092 - acc: 0.9770 - val_loss: 0.2967 - val_acc: 0.9220\n",
      "Epoch 147/250\n",
      "4000/4000 [==============================] - 0s 16us/step - loss: 0.1086 - acc: 0.9778 - val_loss: 0.2973 - val_acc: 0.9200\n",
      "Epoch 148/250\n",
      "4000/4000 [==============================] - 0s 16us/step - loss: 0.1078 - acc: 0.9778 - val_loss: 0.2987 - val_acc: 0.9190\n",
      "Epoch 149/250\n",
      "4000/4000 [==============================] - 0s 16us/step - loss: 0.1071 - acc: 0.9778 - val_loss: 0.2987 - val_acc: 0.9220\n",
      "Epoch 150/250\n",
      "4000/4000 [==============================] - 0s 16us/step - loss: 0.1061 - acc: 0.9783 - val_loss: 0.2997 - val_acc: 0.9180\n",
      "Epoch 151/250\n",
      "4000/4000 [==============================] - 0s 17us/step - loss: 0.1055 - acc: 0.9783 - val_loss: 0.2976 - val_acc: 0.9190\n",
      "Epoch 152/250\n",
      "4000/4000 [==============================] - 0s 16us/step - loss: 0.1046 - acc: 0.9785 - val_loss: 0.2984 - val_acc: 0.9200\n",
      "Epoch 153/250\n",
      "4000/4000 [==============================] - 0s 16us/step - loss: 0.1040 - acc: 0.9790 - val_loss: 0.2992 - val_acc: 0.9160\n",
      "Epoch 154/250\n",
      "4000/4000 [==============================] - 0s 16us/step - loss: 0.1033 - acc: 0.9790 - val_loss: 0.3012 - val_acc: 0.9190\n",
      "Epoch 155/250\n",
      "4000/4000 [==============================] - 0s 16us/step - loss: 0.1028 - acc: 0.9792 - val_loss: 0.3010 - val_acc: 0.9180\n",
      "Epoch 156/250\n",
      "4000/4000 [==============================] - 0s 16us/step - loss: 0.1020 - acc: 0.9792 - val_loss: 0.3009 - val_acc: 0.9170\n",
      "Epoch 157/250\n",
      "4000/4000 [==============================] - 0s 16us/step - loss: 0.1012 - acc: 0.9800 - val_loss: 0.3009 - val_acc: 0.9170\n",
      "Epoch 158/250\n",
      "4000/4000 [==============================] - 0s 16us/step - loss: 0.1005 - acc: 0.9802 - val_loss: 0.3021 - val_acc: 0.9170\n",
      "Epoch 159/250\n",
      "4000/4000 [==============================] - 0s 16us/step - loss: 0.1000 - acc: 0.9808 - val_loss: 0.3019 - val_acc: 0.9190\n",
      "Epoch 160/250\n",
      "4000/4000 [==============================] - 0s 17us/step - loss: 0.0992 - acc: 0.9802 - val_loss: 0.3036 - val_acc: 0.9180\n",
      "Epoch 161/250\n",
      "4000/4000 [==============================] - 0s 16us/step - loss: 0.0987 - acc: 0.9802 - val_loss: 0.3023 - val_acc: 0.9170\n",
      "Epoch 162/250\n",
      "4000/4000 [==============================] - 0s 18us/step - loss: 0.0980 - acc: 0.9808 - val_loss: 0.3037 - val_acc: 0.9170\n",
      "Epoch 163/250\n",
      "4000/4000 [==============================] - 0s 18us/step - loss: 0.0972 - acc: 0.9805 - val_loss: 0.3030 - val_acc: 0.9160\n",
      "Epoch 164/250\n",
      "4000/4000 [==============================] - 0s 17us/step - loss: 0.0968 - acc: 0.9808 - val_loss: 0.3045 - val_acc: 0.9180\n",
      "Epoch 165/250\n",
      "4000/4000 [==============================] - 0s 16us/step - loss: 0.0960 - acc: 0.9818 - val_loss: 0.3063 - val_acc: 0.9180\n",
      "Epoch 166/250\n",
      "4000/4000 [==============================] - 0s 16us/step - loss: 0.0954 - acc: 0.9810 - val_loss: 0.3049 - val_acc: 0.9170\n",
      "Epoch 167/250\n",
      "4000/4000 [==============================] - 0s 16us/step - loss: 0.0949 - acc: 0.9818 - val_loss: 0.3062 - val_acc: 0.9160\n",
      "Epoch 168/250\n",
      "4000/4000 [==============================] - 0s 16us/step - loss: 0.0941 - acc: 0.9815 - val_loss: 0.3064 - val_acc: 0.9180\n",
      "Epoch 169/250\n",
      "4000/4000 [==============================] - 0s 16us/step - loss: 0.0937 - acc: 0.9815 - val_loss: 0.3096 - val_acc: 0.9170\n",
      "Epoch 170/250\n",
      "4000/4000 [==============================] - 0s 17us/step - loss: 0.0930 - acc: 0.9822 - val_loss: 0.3089 - val_acc: 0.9190\n",
      "Epoch 171/250\n",
      "4000/4000 [==============================] - 0s 16us/step - loss: 0.0924 - acc: 0.9822 - val_loss: 0.3086 - val_acc: 0.9190\n",
      "Epoch 172/250\n",
      "4000/4000 [==============================] - 0s 16us/step - loss: 0.0919 - acc: 0.9822 - val_loss: 0.3116 - val_acc: 0.9180\n",
      "Epoch 173/250\n",
      "4000/4000 [==============================] - 0s 16us/step - loss: 0.0911 - acc: 0.9822 - val_loss: 0.3108 - val_acc: 0.9190\n",
      "Epoch 174/250\n",
      "4000/4000 [==============================] - 0s 16us/step - loss: 0.0908 - acc: 0.9820 - val_loss: 0.3118 - val_acc: 0.9210\n",
      "Epoch 175/250\n",
      "4000/4000 [==============================] - 0s 16us/step - loss: 0.0901 - acc: 0.9825 - val_loss: 0.3119 - val_acc: 0.9240\n",
      "Epoch 176/250\n",
      "4000/4000 [==============================] - 0s 16us/step - loss: 0.0894 - acc: 0.9825 - val_loss: 0.3131 - val_acc: 0.9210\n",
      "Epoch 177/250\n",
      "4000/4000 [==============================] - 0s 16us/step - loss: 0.0889 - acc: 0.9825 - val_loss: 0.3151 - val_acc: 0.9220\n",
      "Epoch 178/250\n",
      "4000/4000 [==============================] - 0s 16us/step - loss: 0.0884 - acc: 0.9825 - val_loss: 0.3148 - val_acc: 0.9210\n",
      "Epoch 179/250\n"
     ]
    },
    {
     "name": "stdout",
     "output_type": "stream",
     "text": [
      "4000/4000 [==============================] - 0s 16us/step - loss: 0.0876 - acc: 0.9830 - val_loss: 0.3146 - val_acc: 0.9210\n",
      "Epoch 180/250\n",
      "4000/4000 [==============================] - 0s 16us/step - loss: 0.0871 - acc: 0.9828 - val_loss: 0.3158 - val_acc: 0.9220\n",
      "Epoch 181/250\n",
      "4000/4000 [==============================] - 0s 17us/step - loss: 0.0865 - acc: 0.9828 - val_loss: 0.3153 - val_acc: 0.9210\n",
      "Epoch 182/250\n",
      "4000/4000 [==============================] - 0s 19us/step - loss: 0.0860 - acc: 0.9830 - val_loss: 0.3175 - val_acc: 0.9220\n",
      "Epoch 183/250\n",
      "4000/4000 [==============================] - 0s 17us/step - loss: 0.0852 - acc: 0.9832 - val_loss: 0.3179 - val_acc: 0.9200\n",
      "Epoch 184/250\n",
      "4000/4000 [==============================] - 0s 16us/step - loss: 0.0850 - acc: 0.9832 - val_loss: 0.3184 - val_acc: 0.9210\n",
      "Epoch 185/250\n",
      "4000/4000 [==============================] - 0s 16us/step - loss: 0.0842 - acc: 0.9832 - val_loss: 0.3194 - val_acc: 0.9230\n",
      "Epoch 186/250\n",
      "4000/4000 [==============================] - 0s 16us/step - loss: 0.0838 - acc: 0.9835 - val_loss: 0.3199 - val_acc: 0.9200\n",
      "Epoch 187/250\n",
      "4000/4000 [==============================] - 0s 16us/step - loss: 0.0832 - acc: 0.9832 - val_loss: 0.3190 - val_acc: 0.9250\n",
      "Epoch 188/250\n",
      "4000/4000 [==============================] - 0s 16us/step - loss: 0.0826 - acc: 0.9835 - val_loss: 0.3204 - val_acc: 0.9210\n",
      "Epoch 189/250\n",
      "4000/4000 [==============================] - 0s 17us/step - loss: 0.0820 - acc: 0.9835 - val_loss: 0.3226 - val_acc: 0.9230\n",
      "Epoch 190/250\n",
      "4000/4000 [==============================] - 0s 16us/step - loss: 0.0816 - acc: 0.9835 - val_loss: 0.3208 - val_acc: 0.9240\n",
      "Epoch 191/250\n",
      "4000/4000 [==============================] - 0s 16us/step - loss: 0.0809 - acc: 0.9835 - val_loss: 0.3223 - val_acc: 0.9230\n",
      "Epoch 192/250\n",
      "4000/4000 [==============================] - 0s 16us/step - loss: 0.0806 - acc: 0.9835 - val_loss: 0.3236 - val_acc: 0.9200\n",
      "Epoch 193/250\n",
      "4000/4000 [==============================] - 0s 16us/step - loss: 0.0801 - acc: 0.9835 - val_loss: 0.3236 - val_acc: 0.9210\n",
      "Epoch 194/250\n",
      "4000/4000 [==============================] - 0s 16us/step - loss: 0.0793 - acc: 0.9832 - val_loss: 0.3284 - val_acc: 0.9170\n",
      "Epoch 195/250\n",
      "4000/4000 [==============================] - 0s 16us/step - loss: 0.0790 - acc: 0.9838 - val_loss: 0.3279 - val_acc: 0.9180\n",
      "Epoch 196/250\n",
      "4000/4000 [==============================] - 0s 16us/step - loss: 0.0785 - acc: 0.9838 - val_loss: 0.3265 - val_acc: 0.9210\n",
      "Epoch 197/250\n",
      "4000/4000 [==============================] - 0s 16us/step - loss: 0.0780 - acc: 0.9838 - val_loss: 0.3265 - val_acc: 0.9200\n",
      "Epoch 198/250\n",
      "4000/4000 [==============================] - 0s 16us/step - loss: 0.0778 - acc: 0.9838 - val_loss: 0.3272 - val_acc: 0.9190\n",
      "Epoch 199/250\n",
      "4000/4000 [==============================] - 0s 16us/step - loss: 0.0772 - acc: 0.9838 - val_loss: 0.3307 - val_acc: 0.9160\n",
      "Epoch 200/250\n",
      "4000/4000 [==============================] - 0s 17us/step - loss: 0.0768 - acc: 0.9843 - val_loss: 0.3301 - val_acc: 0.9170\n",
      "Epoch 201/250\n",
      "4000/4000 [==============================] - 0s 19us/step - loss: 0.0762 - acc: 0.9843 - val_loss: 0.3304 - val_acc: 0.9200\n",
      "Epoch 202/250\n",
      "4000/4000 [==============================] - 0s 17us/step - loss: 0.0757 - acc: 0.9843 - val_loss: 0.3319 - val_acc: 0.9180\n",
      "Epoch 203/250\n",
      "4000/4000 [==============================] - 0s 15us/step - loss: 0.0752 - acc: 0.9843 - val_loss: 0.3329 - val_acc: 0.9170\n",
      "Epoch 204/250\n",
      "4000/4000 [==============================] - 0s 16us/step - loss: 0.0747 - acc: 0.9843 - val_loss: 0.3332 - val_acc: 0.9200\n",
      "Epoch 205/250\n",
      "4000/4000 [==============================] - 0s 16us/step - loss: 0.0743 - acc: 0.9843 - val_loss: 0.3339 - val_acc: 0.9180\n",
      "Epoch 206/250\n",
      "4000/4000 [==============================] - 0s 16us/step - loss: 0.0738 - acc: 0.9845 - val_loss: 0.3364 - val_acc: 0.9160\n",
      "Epoch 207/250\n",
      "4000/4000 [==============================] - 0s 16us/step - loss: 0.0731 - acc: 0.9845 - val_loss: 0.3353 - val_acc: 0.9150\n",
      "Epoch 208/250\n",
      "4000/4000 [==============================] - 0s 16us/step - loss: 0.0727 - acc: 0.9845 - val_loss: 0.3358 - val_acc: 0.9170\n",
      "Epoch 209/250\n",
      "4000/4000 [==============================] - 0s 16us/step - loss: 0.0724 - acc: 0.9848 - val_loss: 0.3373 - val_acc: 0.9170\n",
      "Epoch 210/250\n",
      "4000/4000 [==============================] - 0s 16us/step - loss: 0.0718 - acc: 0.9850 - val_loss: 0.3398 - val_acc: 0.9160\n",
      "Epoch 211/250\n",
      "4000/4000 [==============================] - 0s 16us/step - loss: 0.0714 - acc: 0.9852 - val_loss: 0.3409 - val_acc: 0.9160\n",
      "Epoch 212/250\n",
      "4000/4000 [==============================] - 0s 16us/step - loss: 0.0709 - acc: 0.9852 - val_loss: 0.3415 - val_acc: 0.9160\n",
      "Epoch 213/250\n",
      "4000/4000 [==============================] - 0s 16us/step - loss: 0.0706 - acc: 0.9858 - val_loss: 0.3441 - val_acc: 0.9150\n",
      "Epoch 214/250\n",
      "4000/4000 [==============================] - 0s 16us/step - loss: 0.0700 - acc: 0.9860 - val_loss: 0.3429 - val_acc: 0.9180\n",
      "Epoch 215/250\n",
      "4000/4000 [==============================] - 0s 16us/step - loss: 0.0695 - acc: 0.9862 - val_loss: 0.3466 - val_acc: 0.9170\n",
      "Epoch 216/250\n",
      "4000/4000 [==============================] - 0s 18us/step - loss: 0.0694 - acc: 0.9862 - val_loss: 0.3442 - val_acc: 0.9160\n",
      "Epoch 217/250\n",
      "4000/4000 [==============================] - 0s 16us/step - loss: 0.0687 - acc: 0.9865 - val_loss: 0.3450 - val_acc: 0.9160\n",
      "Epoch 218/250\n",
      "4000/4000 [==============================] - 0s 17us/step - loss: 0.0686 - acc: 0.9862 - val_loss: 0.3472 - val_acc: 0.9180\n",
      "Epoch 219/250\n",
      "4000/4000 [==============================] - 0s 18us/step - loss: 0.0681 - acc: 0.9862 - val_loss: 0.3471 - val_acc: 0.9160\n",
      "Epoch 220/250\n",
      "4000/4000 [==============================] - 0s 18us/step - loss: 0.0679 - acc: 0.9862 - val_loss: 0.3483 - val_acc: 0.9170\n",
      "Epoch 221/250\n",
      "4000/4000 [==============================] - 0s 18us/step - loss: 0.0672 - acc: 0.9865 - val_loss: 0.3465 - val_acc: 0.9160\n",
      "Epoch 222/250\n",
      "4000/4000 [==============================] - 0s 16us/step - loss: 0.0671 - acc: 0.9865 - val_loss: 0.3498 - val_acc: 0.9160\n",
      "Epoch 223/250\n",
      "4000/4000 [==============================] - 0s 16us/step - loss: 0.0667 - acc: 0.9862 - val_loss: 0.3481 - val_acc: 0.9160\n",
      "Epoch 224/250\n",
      "4000/4000 [==============================] - 0s 16us/step - loss: 0.0661 - acc: 0.9868 - val_loss: 0.3519 - val_acc: 0.9200\n",
      "Epoch 225/250\n",
      "4000/4000 [==============================] - 0s 16us/step - loss: 0.0657 - acc: 0.9868 - val_loss: 0.3510 - val_acc: 0.9200\n",
      "Epoch 226/250\n",
      "4000/4000 [==============================] - 0s 16us/step - loss: 0.0654 - acc: 0.9870 - val_loss: 0.3520 - val_acc: 0.9150\n",
      "Epoch 227/250\n",
      "4000/4000 [==============================] - 0s 16us/step - loss: 0.0648 - acc: 0.9870 - val_loss: 0.3530 - val_acc: 0.9180\n",
      "Epoch 228/250\n",
      "4000/4000 [==============================] - 0s 16us/step - loss: 0.0648 - acc: 0.9868 - val_loss: 0.3536 - val_acc: 0.9160\n",
      "Epoch 229/250\n",
      "4000/4000 [==============================] - 0s 16us/step - loss: 0.0642 - acc: 0.9868 - val_loss: 0.3550 - val_acc: 0.9130\n",
      "Epoch 230/250\n",
      "4000/4000 [==============================] - 0s 16us/step - loss: 0.0641 - acc: 0.9870 - val_loss: 0.3539 - val_acc: 0.9160\n",
      "Epoch 231/250\n",
      "4000/4000 [==============================] - 0s 16us/step - loss: 0.0637 - acc: 0.9873 - val_loss: 0.3549 - val_acc: 0.9160\n",
      "Epoch 232/250\n",
      "4000/4000 [==============================] - 0s 16us/step - loss: 0.0634 - acc: 0.9870 - val_loss: 0.3557 - val_acc: 0.9170\n",
      "Epoch 233/250\n",
      "4000/4000 [==============================] - 0s 16us/step - loss: 0.0630 - acc: 0.9870 - val_loss: 0.3570 - val_acc: 0.9190\n",
      "Epoch 234/250\n",
      "4000/4000 [==============================] - 0s 17us/step - loss: 0.0626 - acc: 0.9873 - val_loss: 0.3587 - val_acc: 0.9140\n",
      "Epoch 235/250\n",
      "4000/4000 [==============================] - 0s 16us/step - loss: 0.0626 - acc: 0.9870 - val_loss: 0.3585 - val_acc: 0.9180\n",
      "Epoch 236/250\n",
      "4000/4000 [==============================] - 0s 16us/step - loss: 0.0620 - acc: 0.9875 - val_loss: 0.3596 - val_acc: 0.9140\n",
      "Epoch 237/250\n",
      "4000/4000 [==============================] - 0s 16us/step - loss: 0.0621 - acc: 0.9875 - val_loss: 0.3600 - val_acc: 0.9180\n",
      "Epoch 238/250\n"
     ]
    },
    {
     "name": "stdout",
     "output_type": "stream",
     "text": [
      "4000/4000 [==============================] - 0s 16us/step - loss: 0.0616 - acc: 0.9878 - val_loss: 0.3608 - val_acc: 0.9150\n",
      "Epoch 239/250\n",
      "4000/4000 [==============================] - 0s 18us/step - loss: 0.0615 - acc: 0.9880 - val_loss: 0.3601 - val_acc: 0.9180\n",
      "Epoch 240/250\n",
      "4000/4000 [==============================] - 0s 17us/step - loss: 0.0613 - acc: 0.9880 - val_loss: 0.3625 - val_acc: 0.9150\n",
      "Epoch 241/250\n",
      "4000/4000 [==============================] - 0s 17us/step - loss: 0.0610 - acc: 0.9875 - val_loss: 0.3630 - val_acc: 0.9140\n",
      "Epoch 242/250\n",
      "4000/4000 [==============================] - 0s 17us/step - loss: 0.0606 - acc: 0.9882 - val_loss: 0.3631 - val_acc: 0.9150\n",
      "Epoch 243/250\n",
      "4000/4000 [==============================] - 0s 16us/step - loss: 0.0605 - acc: 0.9878 - val_loss: 0.3624 - val_acc: 0.9160\n",
      "Epoch 244/250\n",
      "4000/4000 [==============================] - 0s 16us/step - loss: 0.0602 - acc: 0.9880 - val_loss: 0.3644 - val_acc: 0.9120\n",
      "Epoch 245/250\n",
      "4000/4000 [==============================] - 0s 16us/step - loss: 0.0602 - acc: 0.9880 - val_loss: 0.3636 - val_acc: 0.9180\n",
      "Epoch 246/250\n",
      "4000/4000 [==============================] - 0s 15us/step - loss: 0.0599 - acc: 0.9882 - val_loss: 0.3636 - val_acc: 0.9180\n",
      "Epoch 247/250\n",
      "4000/4000 [==============================] - 0s 16us/step - loss: 0.0595 - acc: 0.9880 - val_loss: 0.3633 - val_acc: 0.9190\n",
      "Epoch 248/250\n",
      "4000/4000 [==============================] - 0s 16us/step - loss: 0.0594 - acc: 0.9880 - val_loss: 0.3659 - val_acc: 0.9160\n",
      "Epoch 249/250\n",
      "4000/4000 [==============================] - 0s 16us/step - loss: 0.0593 - acc: 0.9882 - val_loss: 0.3651 - val_acc: 0.9150\n",
      "Epoch 250/250\n",
      "4000/4000 [==============================] - 0s 16us/step - loss: 0.0589 - acc: 0.9882 - val_loss: 0.3680 - val_acc: 0.9150\n"
     ]
    }
   ],
   "source": [
    "history = model.fit(X_train, y_train, batch_size=128, epochs=250, verbose=1, validation_data=(X_test, y_test))"
   ]
  },
  {
   "cell_type": "markdown",
   "metadata": {},
   "source": [
    "Now let's see how we did!"
   ]
  },
  {
   "cell_type": "code",
   "execution_count": 168,
   "metadata": {},
   "outputs": [
    {
     "name": "stdout",
     "output_type": "stream",
     "text": [
      "1000/1000 [==============================] - 0s 15us/step\n",
      "Evaluation result on Test Data : Cost = 0.3679812917709351, accuracy = 91.5\n"
     ]
    }
   ],
   "source": [
    "[test_cost, test_acc] = model.evaluate(X_test, y_test)\n",
    "print(\"Evaluation result on Test Data : Cost = {}, accuracy = {}\".format(test_cost, (test_acc*100)))"
   ]
  },
  {
   "cell_type": "markdown",
   "metadata": {},
   "source": [
    "Not too shabby! Not as good as our hand-crafted model, but remember, we cheated then! Let's draw some plots to visualize our cost and accuracy as the model became more familiar with the data. "
   ]
  },
  {
   "cell_type": "code",
   "execution_count": 169,
   "metadata": {},
   "outputs": [
    {
     "data": {
      "text/plain": [
       "Text(0.5,1,'Accuracy Curves')"
      ]
     },
     "execution_count": 169,
     "metadata": {},
     "output_type": "execute_result"
    },
    {
     "data": {
      "image/png": "[encoded data removed]",
      "text/plain": [
       "<Figure size 576x432 with 1 Axes>"
      ]
     },
     "metadata": {},
     "output_type": "display_data"
    },
    {
     "data": {
      "image/png": "[encoded data removed]",
      "text/plain": [
       "<Figure size 576x432 with 1 Axes>"
      ]
     },
     "metadata": {},
     "output_type": "display_data"
    }
   ],
   "source": [
    "#Plot cost\n",
    "plt.figure(figsize=[8,6])\n",
    "plt.plot(history.history['loss'],'r',linewidth=3.0)\n",
    "plt.plot(history.history['val_loss'],'b',linewidth=3.0)\n",
    "plt.legend(['Training cost', 'Validation cost'],fontsize=18)\n",
    "plt.xlabel('Epochs ',fontsize=16)\n",
    "plt.ylabel('Cost',fontsize=16)\n",
    "plt.title('Cost Curves',fontsize=16)\n",
    " \n",
    "#Plot accuracy\n",
    "plt.figure(figsize=[8,6])\n",
    "plt.plot(history.history['acc'],'r',linewidth=3.0)\n",
    "plt.plot(history.history['val_acc'],'b',linewidth=3.0)\n",
    "plt.legend(['Training Accuracy', 'Validation Accuracy'],fontsize=18)\n",
    "plt.xlabel('Epochs ',fontsize=16)\n",
    "plt.ylabel('Accuracy',fontsize=16)\n",
    "plt.title('Accuracy Curves',fontsize=16)"
   ]
  },
  {
   "cell_type": "markdown",
   "metadata": {},
   "source": [
    "As you can see, our training cost and accuracy only get better the more the model sees the data, while for the validation set, we've plateaued! This is a clear indicator that our model is overfit. In fact if you crank up the Epochs to 1000 or 10000, you'd see the test cost and accuracy get worse and worse while the training cost and accuracy get better and better. So, more Epochs in not necessarily a good thing! One fix for this overfitting problem is called dropout. You can think of dropout as additional neural network regularization, on top of the regularization we already implemented.\n",
    "\n",
    "In a nut shell, dropout randomly turns off a percentage of the units or neurons in a given layer which discourages overfitting. Since the hidden size of the neural network in this assignment is very small, we'll only shut off 15% of the neurons. In neural networks with larger hidden sizes, the dropout number is usually much higher, like 50%."
   ]
  },
  {
   "cell_type": "code",
   "execution_count": 176,
   "metadata": {},
   "outputs": [],
   "source": [
    "from keras.layers import Dropout\n",
    " \n",
    "model_dropout = Sequential()\n",
    "model_dropout.add(Dense(25, activation='softmax', input_shape=(400,)))\n",
    "model_dropout.add(Dropout(0.15))\n",
    "model_dropout.add(Dense(10, activation='softmax'))"
   ]
  },
  {
   "cell_type": "markdown",
   "metadata": {},
   "source": [
    "Now we can just configure a new model in the same way as before!"
   ]
  },
  {
   "cell_type": "code",
   "execution_count": 177,
   "metadata": {},
   "outputs": [
    {
     "name": "stdout",
     "output_type": "stream",
     "text": [
      "Train on 4000 samples, validate on 1000 samples\n",
      "Epoch 1/250\n",
      "4000/4000 [==============================] - 0s 64us/step - loss: 2.2650 - acc: 0.2650 - val_loss: 2.2320 - val_acc: 0.4680\n",
      "Epoch 2/250\n",
      "4000/4000 [==============================] - 0s 18us/step - loss: 2.1951 - acc: 0.5007 - val_loss: 2.1643 - val_acc: 0.5810\n",
      "Epoch 3/250\n",
      "4000/4000 [==============================] - 0s 18us/step - loss: 2.1233 - acc: 0.5703 - val_loss: 2.0962 - val_acc: 0.6100\n",
      "Epoch 4/250\n",
      "4000/4000 [==============================] - 0s 18us/step - loss: 2.0558 - acc: 0.5773 - val_loss: 2.0364 - val_acc: 0.5950\n",
      "Epoch 5/250\n",
      "4000/4000 [==============================] - 0s 17us/step - loss: 1.9989 - acc: 0.5707 - val_loss: 1.9820 - val_acc: 0.5980\n",
      "Epoch 6/250\n",
      "4000/4000 [==============================] - 0s 18us/step - loss: 1.9430 - acc: 0.5740 - val_loss: 1.9314 - val_acc: 0.6070\n",
      "Epoch 7/250\n",
      "4000/4000 [==============================] - 0s 17us/step - loss: 1.8987 - acc: 0.5752 - val_loss: 1.8852 - val_acc: 0.6190\n",
      "Epoch 8/250\n",
      "4000/4000 [==============================] - 0s 17us/step - loss: 1.8545 - acc: 0.5840 - val_loss: 1.8424 - val_acc: 0.6410\n",
      "Epoch 9/250\n",
      "4000/4000 [==============================] - 0s 19us/step - loss: 1.8115 - acc: 0.5927 - val_loss: 1.8022 - val_acc: 0.6430\n",
      "Epoch 10/250\n",
      "4000/4000 [==============================] - 0s 18us/step - loss: 1.7745 - acc: 0.5990 - val_loss: 1.7640 - val_acc: 0.6490\n",
      "Epoch 11/250\n",
      "4000/4000 [==============================] - 0s 21us/step - loss: 1.7439 - acc: 0.5932 - val_loss: 1.7281 - val_acc: 0.6510\n",
      "Epoch 12/250\n",
      "4000/4000 [==============================] - 0s 19us/step - loss: 1.7010 - acc: 0.6025 - val_loss: 1.6910 - val_acc: 0.6610\n",
      "Epoch 13/250\n",
      "4000/4000 [==============================] - 0s 18us/step - loss: 1.6643 - acc: 0.6120 - val_loss: 1.6556 - val_acc: 0.6750\n",
      "Epoch 14/250\n",
      "4000/4000 [==============================] - 0s 18us/step - loss: 1.6306 - acc: 0.6195 - val_loss: 1.6210 - val_acc: 0.6790\n",
      "Epoch 15/250\n",
      "4000/4000 [==============================] - 0s 18us/step - loss: 1.6050 - acc: 0.6185 - val_loss: 1.5866 - val_acc: 0.6880\n",
      "Epoch 16/250\n",
      "4000/4000 [==============================] - 0s 18us/step - loss: 1.5685 - acc: 0.6300 - val_loss: 1.5543 - val_acc: 0.6910\n",
      "Epoch 17/250\n",
      "4000/4000 [==============================] - 0s 18us/step - loss: 1.5367 - acc: 0.6435 - val_loss: 1.5203 - val_acc: 0.7050\n",
      "Epoch 18/250\n",
      "4000/4000 [==============================] - 0s 18us/step - loss: 1.5087 - acc: 0.6445 - val_loss: 1.4887 - val_acc: 0.7090\n",
      "Epoch 19/250\n",
      "4000/4000 [==============================] - 0s 18us/step - loss: 1.4748 - acc: 0.6557 - val_loss: 1.4574 - val_acc: 0.7250\n",
      "Epoch 20/250\n",
      "4000/4000 [==============================] - 0s 18us/step - loss: 1.4441 - acc: 0.6660 - val_loss: 1.4247 - val_acc: 0.7270\n",
      "Epoch 21/250\n",
      "4000/4000 [==============================] - 0s 17us/step - loss: 1.4129 - acc: 0.6707 - val_loss: 1.3934 - val_acc: 0.7370\n",
      "Epoch 22/250\n",
      "4000/4000 [==============================] - 0s 18us/step - loss: 1.3779 - acc: 0.6813 - val_loss: 1.3617 - val_acc: 0.7450\n",
      "Epoch 23/250\n",
      "4000/4000 [==============================] - 0s 18us/step - loss: 1.3576 - acc: 0.6855 - val_loss: 1.3324 - val_acc: 0.7520\n",
      "Epoch 24/250\n",
      "4000/4000 [==============================] - 0s 19us/step - loss: 1.3226 - acc: 0.6877 - val_loss: 1.3013 - val_acc: 0.7610\n",
      "Epoch 25/250\n",
      "4000/4000 [==============================] - 0s 18us/step - loss: 1.3035 - acc: 0.6963 - val_loss: 1.2713 - val_acc: 0.7730\n",
      "Epoch 26/250\n",
      "4000/4000 [==============================] - 0s 18us/step - loss: 1.2626 - acc: 0.7077 - val_loss: 1.2415 - val_acc: 0.8050\n",
      "Epoch 27/250\n",
      "4000/4000 [==============================] - 0s 18us/step - loss: 1.2482 - acc: 0.7408 - val_loss: 1.2102 - val_acc: 0.8520\n",
      "Epoch 28/250\n",
      "4000/4000 [==============================] - 0s 20us/step - loss: 1.2146 - acc: 0.7672 - val_loss: 1.1795 - val_acc: 0.8620\n",
      "Epoch 29/250\n",
      "4000/4000 [==============================] - 0s 20us/step - loss: 1.1809 - acc: 0.7792 - val_loss: 1.1475 - val_acc: 0.8660\n",
      "Epoch 30/250\n",
      "4000/4000 [==============================] - 0s 18us/step - loss: 1.1539 - acc: 0.7878 - val_loss: 1.1176 - val_acc: 0.8770\n",
      "Epoch 31/250\n",
      "4000/4000 [==============================] - 0s 18us/step - loss: 1.1208 - acc: 0.7973 - val_loss: 1.0859 - val_acc: 0.8790\n",
      "Epoch 32/250\n",
      "4000/4000 [==============================] - 0s 18us/step - loss: 1.1056 - acc: 0.7895 - val_loss: 1.0554 - val_acc: 0.8830\n",
      "Epoch 33/250\n",
      "4000/4000 [==============================] - 0s 19us/step - loss: 1.0785 - acc: 0.7913 - val_loss: 1.0267 - val_acc: 0.8850\n",
      "Epoch 34/250\n",
      "4000/4000 [==============================] - 0s 18us/step - loss: 1.0399 - acc: 0.8035 - val_loss: 0.9972 - val_acc: 0.8870\n",
      "Epoch 35/250\n",
      "4000/4000 [==============================] - 0s 18us/step - loss: 1.0120 - acc: 0.8055 - val_loss: 0.9688 - val_acc: 0.8930\n",
      "Epoch 36/250\n",
      "4000/4000 [==============================] - 0s 18us/step - loss: 0.9916 - acc: 0.8080 - val_loss: 0.9414 - val_acc: 0.8910\n",
      "Epoch 37/250\n",
      "4000/4000 [==============================] - 0s 18us/step - loss: 0.9605 - acc: 0.8097 - val_loss: 0.9141 - val_acc: 0.8960\n",
      "Epoch 38/250\n",
      "4000/4000 [==============================] - 0s 18us/step - loss: 0.9534 - acc: 0.8040 - val_loss: 0.8885 - val_acc: 0.9000\n",
      "Epoch 39/250\n",
      "4000/4000 [==============================] - 0s 17us/step - loss: 0.9188 - acc: 0.8143 - val_loss: 0.8623 - val_acc: 0.9000\n",
      "Epoch 40/250\n",
      "4000/4000 [==============================] - 0s 18us/step - loss: 0.9152 - acc: 0.8033 - val_loss: 0.8387 - val_acc: 0.9040\n",
      "Epoch 41/250\n",
      "4000/4000 [==============================] - 0s 18us/step - loss: 0.8872 - acc: 0.8105 - val_loss: 0.8155 - val_acc: 0.9030\n",
      "Epoch 42/250\n",
      "4000/4000 [==============================] - 0s 18us/step - loss: 0.8450 - acc: 0.8227 - val_loss: 0.7926 - val_acc: 0.9060\n",
      "Epoch 43/250\n",
      "4000/4000 [==============================] - 0s 18us/step - loss: 0.8340 - acc: 0.8205 - val_loss: 0.7698 - val_acc: 0.9090\n",
      "Epoch 44/250\n",
      "4000/4000 [==============================] - 0s 18us/step - loss: 0.8229 - acc: 0.8145 - val_loss: 0.7510 - val_acc: 0.9030\n",
      "Epoch 45/250\n",
      "4000/4000 [==============================] - 0s 20us/step - loss: 0.8170 - acc: 0.8110 - val_loss: 0.7297 - val_acc: 0.9100\n",
      "Epoch 46/250\n",
      "4000/4000 [==============================] - 0s 20us/step - loss: 0.7923 - acc: 0.8153 - val_loss: 0.7110 - val_acc: 0.9110\n",
      "Epoch 47/250\n",
      "4000/4000 [==============================] - 0s 19us/step - loss: 0.7806 - acc: 0.8157 - val_loss: 0.6918 - val_acc: 0.9090\n",
      "Epoch 48/250\n",
      "4000/4000 [==============================] - 0s 18us/step - loss: 0.7424 - acc: 0.8230 - val_loss: 0.6750 - val_acc: 0.9090\n",
      "Epoch 49/250\n",
      "4000/4000 [==============================] - 0s 18us/step - loss: 0.7534 - acc: 0.8180 - val_loss: 0.6574 - val_acc: 0.9080\n",
      "Epoch 50/250\n",
      "4000/4000 [==============================] - 0s 18us/step - loss: 0.7364 - acc: 0.8210 - val_loss: 0.6400 - val_acc: 0.9090\n",
      "Epoch 51/250\n",
      "4000/4000 [==============================] - 0s 18us/step - loss: 0.7186 - acc: 0.8177 - val_loss: 0.6226 - val_acc: 0.9130\n",
      "Epoch 52/250\n",
      "4000/4000 [==============================] - 0s 18us/step - loss: 0.7109 - acc: 0.8197 - val_loss: 0.6071 - val_acc: 0.9140\n",
      "Epoch 53/250\n",
      "4000/4000 [==============================] - 0s 18us/step - loss: 0.6908 - acc: 0.8195 - val_loss: 0.5943 - val_acc: 0.9110\n",
      "Epoch 54/250\n",
      "4000/4000 [==============================] - 0s 17us/step - loss: 0.6898 - acc: 0.8187 - val_loss: 0.5805 - val_acc: 0.9090\n",
      "Epoch 55/250\n",
      "4000/4000 [==============================] - 0s 18us/step - loss: 0.6889 - acc: 0.8183 - val_loss: 0.5660 - val_acc: 0.9100\n",
      "Epoch 56/250\n",
      "4000/4000 [==============================] - 0s 18us/step - loss: 0.6671 - acc: 0.8210 - val_loss: 0.5538 - val_acc: 0.9080\n",
      "Epoch 57/250\n",
      "4000/4000 [==============================] - 0s 17us/step - loss: 0.6478 - acc: 0.8230 - val_loss: 0.5414 - val_acc: 0.9090\n",
      "Epoch 58/250\n",
      "4000/4000 [==============================] - 0s 17us/step - loss: 0.6419 - acc: 0.8267 - val_loss: 0.5295 - val_acc: 0.9100\n",
      "Epoch 59/250\n",
      "4000/4000 [==============================] - 0s 18us/step - loss: 0.6524 - acc: 0.8210 - val_loss: 0.5178 - val_acc: 0.9130\n",
      "Epoch 60/250\n"
     ]
    },
    {
     "name": "stdout",
     "output_type": "stream",
     "text": [
      "4000/4000 [==============================] - 0s 18us/step - loss: 0.6237 - acc: 0.8265 - val_loss: 0.5077 - val_acc: 0.9090\n",
      "Epoch 61/250\n",
      "4000/4000 [==============================] - 0s 17us/step - loss: 0.6127 - acc: 0.8255 - val_loss: 0.4965 - val_acc: 0.9100\n",
      "Epoch 62/250\n",
      "4000/4000 [==============================] - 0s 18us/step - loss: 0.6034 - acc: 0.8290 - val_loss: 0.4867 - val_acc: 0.9090\n",
      "Epoch 63/250\n",
      "4000/4000 [==============================] - 0s 20us/step - loss: 0.6194 - acc: 0.8162 - val_loss: 0.4775 - val_acc: 0.9100\n",
      "Epoch 64/250\n",
      "4000/4000 [==============================] - 0s 20us/step - loss: 0.5925 - acc: 0.8295 - val_loss: 0.4684 - val_acc: 0.9120\n",
      "Epoch 65/250\n",
      "4000/4000 [==============================] - 0s 20us/step - loss: 0.6058 - acc: 0.8255 - val_loss: 0.4616 - val_acc: 0.9140\n",
      "Epoch 66/250\n",
      "4000/4000 [==============================] - 0s 18us/step - loss: 0.5883 - acc: 0.8273 - val_loss: 0.4516 - val_acc: 0.9140\n",
      "Epoch 67/250\n",
      "4000/4000 [==============================] - 0s 18us/step - loss: 0.5841 - acc: 0.8267 - val_loss: 0.4460 - val_acc: 0.9140\n",
      "Epoch 68/250\n",
      "4000/4000 [==============================] - 0s 18us/step - loss: 0.5491 - acc: 0.8407 - val_loss: 0.4368 - val_acc: 0.9150\n",
      "Epoch 69/250\n",
      "4000/4000 [==============================] - 0s 17us/step - loss: 0.5676 - acc: 0.8323 - val_loss: 0.4299 - val_acc: 0.9170\n",
      "Epoch 70/250\n",
      "4000/4000 [==============================] - 0s 19us/step - loss: 0.5594 - acc: 0.8342 - val_loss: 0.4226 - val_acc: 0.9140\n",
      "Epoch 71/250\n",
      "4000/4000 [==============================] - 0s 18us/step - loss: 0.5615 - acc: 0.8295 - val_loss: 0.4157 - val_acc: 0.9160\n",
      "Epoch 72/250\n",
      "4000/4000 [==============================] - 0s 17us/step - loss: 0.5577 - acc: 0.8317 - val_loss: 0.4105 - val_acc: 0.9160\n",
      "Epoch 73/250\n",
      "4000/4000 [==============================] - 0s 18us/step - loss: 0.5620 - acc: 0.8263 - val_loss: 0.4057 - val_acc: 0.9150\n",
      "Epoch 74/250\n",
      "4000/4000 [==============================] - 0s 18us/step - loss: 0.5486 - acc: 0.8297 - val_loss: 0.3996 - val_acc: 0.9170\n",
      "Epoch 75/250\n",
      "4000/4000 [==============================] - 0s 17us/step - loss: 0.5367 - acc: 0.8340 - val_loss: 0.3947 - val_acc: 0.9170\n",
      "Epoch 76/250\n",
      "4000/4000 [==============================] - 0s 18us/step - loss: 0.5511 - acc: 0.8247 - val_loss: 0.3887 - val_acc: 0.9190\n",
      "Epoch 77/250\n",
      "4000/4000 [==============================] - 0s 17us/step - loss: 0.5419 - acc: 0.8305 - val_loss: 0.3832 - val_acc: 0.9200\n",
      "Epoch 78/250\n",
      "4000/4000 [==============================] - 0s 17us/step - loss: 0.5352 - acc: 0.8325 - val_loss: 0.3802 - val_acc: 0.9190\n",
      "Epoch 79/250\n",
      "4000/4000 [==============================] - 0s 17us/step - loss: 0.5466 - acc: 0.8250 - val_loss: 0.3774 - val_acc: 0.9180\n",
      "Epoch 80/250\n",
      "4000/4000 [==============================] - 0s 18us/step - loss: 0.5383 - acc: 0.8307 - val_loss: 0.3719 - val_acc: 0.9180\n",
      "Epoch 81/250\n",
      "4000/4000 [==============================] - 0s 18us/step - loss: 0.5361 - acc: 0.8275 - val_loss: 0.3678 - val_acc: 0.9200\n",
      "Epoch 82/250\n",
      "4000/4000 [==============================] - 0s 21us/step - loss: 0.4910 - acc: 0.8440 - val_loss: 0.3642 - val_acc: 0.9170\n",
      "Epoch 83/250\n",
      "4000/4000 [==============================] - 0s 19us/step - loss: 0.5171 - acc: 0.8315 - val_loss: 0.3610 - val_acc: 0.9200\n",
      "Epoch 84/250\n",
      "4000/4000 [==============================] - 0s 17us/step - loss: 0.5187 - acc: 0.8347 - val_loss: 0.3578 - val_acc: 0.9150\n",
      "Epoch 85/250\n",
      "4000/4000 [==============================] - 0s 17us/step - loss: 0.5260 - acc: 0.8273 - val_loss: 0.3542 - val_acc: 0.9210\n",
      "Epoch 86/250\n",
      "4000/4000 [==============================] - 0s 17us/step - loss: 0.4886 - acc: 0.8438 - val_loss: 0.3510 - val_acc: 0.9190\n",
      "Epoch 87/250\n",
      "4000/4000 [==============================] - 0s 18us/step - loss: 0.4884 - acc: 0.8405 - val_loss: 0.3486 - val_acc: 0.9170\n",
      "Epoch 88/250\n",
      "4000/4000 [==============================] - 0s 17us/step - loss: 0.5168 - acc: 0.8303 - val_loss: 0.3463 - val_acc: 0.9190\n",
      "Epoch 89/250\n",
      "4000/4000 [==============================] - 0s 17us/step - loss: 0.5007 - acc: 0.8353 - val_loss: 0.3429 - val_acc: 0.9210\n",
      "Epoch 90/250\n",
      "4000/4000 [==============================] - 0s 18us/step - loss: 0.5093 - acc: 0.8315 - val_loss: 0.3405 - val_acc: 0.9200\n",
      "Epoch 91/250\n",
      "4000/4000 [==============================] - 0s 17us/step - loss: 0.5200 - acc: 0.8287 - val_loss: 0.3378 - val_acc: 0.9210\n",
      "Epoch 92/250\n",
      "4000/4000 [==============================] - 0s 18us/step - loss: 0.4966 - acc: 0.8383 - val_loss: 0.3361 - val_acc: 0.9220\n",
      "Epoch 93/250\n",
      "4000/4000 [==============================] - 0s 18us/step - loss: 0.5109 - acc: 0.8315 - val_loss: 0.3338 - val_acc: 0.9200\n",
      "Epoch 94/250\n",
      "4000/4000 [==============================] - 0s 17us/step - loss: 0.5154 - acc: 0.8297 - val_loss: 0.3313 - val_acc: 0.9200\n",
      "Epoch 95/250\n",
      "4000/4000 [==============================] - 0s 18us/step - loss: 0.4863 - acc: 0.8383 - val_loss: 0.3301 - val_acc: 0.9190\n",
      "Epoch 96/250\n",
      "4000/4000 [==============================] - 0s 18us/step - loss: 0.4808 - acc: 0.8438 - val_loss: 0.3283 - val_acc: 0.9240\n",
      "Epoch 97/250\n",
      "4000/4000 [==============================] - 0s 18us/step - loss: 0.4806 - acc: 0.8417 - val_loss: 0.3288 - val_acc: 0.9230\n",
      "Epoch 98/250\n",
      "4000/4000 [==============================] - 0s 17us/step - loss: 0.4830 - acc: 0.8425 - val_loss: 0.3254 - val_acc: 0.9220\n",
      "Epoch 99/250\n",
      "4000/4000 [==============================] - 0s 19us/step - loss: 0.4728 - acc: 0.8423 - val_loss: 0.3220 - val_acc: 0.9250\n",
      "Epoch 100/250\n",
      "4000/4000 [==============================] - 0s 19us/step - loss: 0.4606 - acc: 0.8480 - val_loss: 0.3211 - val_acc: 0.9210\n",
      "Epoch 101/250\n",
      "4000/4000 [==============================] - 0s 19us/step - loss: 0.4809 - acc: 0.8383 - val_loss: 0.3192 - val_acc: 0.9220\n",
      "Epoch 102/250\n",
      "4000/4000 [==============================] - 0s 17us/step - loss: 0.4651 - acc: 0.8460 - val_loss: 0.3179 - val_acc: 0.9240\n",
      "Epoch 103/250\n",
      "4000/4000 [==============================] - 0s 18us/step - loss: 0.4872 - acc: 0.8350 - val_loss: 0.3173 - val_acc: 0.9230\n",
      "Epoch 104/250\n",
      "4000/4000 [==============================] - 0s 17us/step - loss: 0.4640 - acc: 0.8462 - val_loss: 0.3161 - val_acc: 0.9250\n",
      "Epoch 105/250\n",
      "4000/4000 [==============================] - 0s 17us/step - loss: 0.4868 - acc: 0.8357 - val_loss: 0.3150 - val_acc: 0.9260\n",
      "Epoch 106/250\n",
      "4000/4000 [==============================] - 0s 19us/step - loss: 0.4849 - acc: 0.8377 - val_loss: 0.3141 - val_acc: 0.9230\n",
      "Epoch 107/250\n",
      "4000/4000 [==============================] - 0s 18us/step - loss: 0.4801 - acc: 0.8372 - val_loss: 0.3125 - val_acc: 0.9200\n",
      "Epoch 108/250\n",
      "4000/4000 [==============================] - 0s 17us/step - loss: 0.4709 - acc: 0.8417 - val_loss: 0.3121 - val_acc: 0.9210\n",
      "Epoch 109/250\n",
      "4000/4000 [==============================] - 0s 17us/step - loss: 0.4505 - acc: 0.8510 - val_loss: 0.3125 - val_acc: 0.9240\n",
      "Epoch 110/250\n",
      "4000/4000 [==============================] - 0s 18us/step - loss: 0.4809 - acc: 0.8353 - val_loss: 0.3108 - val_acc: 0.9220\n",
      "Epoch 111/250\n",
      "4000/4000 [==============================] - 0s 18us/step - loss: 0.4903 - acc: 0.8357 - val_loss: 0.3079 - val_acc: 0.9250\n",
      "Epoch 112/250\n",
      "4000/4000 [==============================] - 0s 17us/step - loss: 0.4679 - acc: 0.8452 - val_loss: 0.3083 - val_acc: 0.9260\n",
      "Epoch 113/250\n",
      "4000/4000 [==============================] - 0s 17us/step - loss: 0.4738 - acc: 0.8397 - val_loss: 0.3084 - val_acc: 0.9220\n",
      "Epoch 114/250\n",
      "4000/4000 [==============================] - 0s 18us/step - loss: 0.4810 - acc: 0.8350 - val_loss: 0.3063 - val_acc: 0.9230\n",
      "Epoch 115/250\n",
      "4000/4000 [==============================] - 0s 18us/step - loss: 0.4669 - acc: 0.8402 - val_loss: 0.3062 - val_acc: 0.9230\n",
      "Epoch 116/250\n",
      "4000/4000 [==============================] - 0s 18us/step - loss: 0.4571 - acc: 0.8443 - val_loss: 0.3070 - val_acc: 0.9250\n",
      "Epoch 117/250\n",
      "4000/4000 [==============================] - 0s 20us/step - loss: 0.4564 - acc: 0.8452 - val_loss: 0.3058 - val_acc: 0.9240\n",
      "Epoch 118/250\n",
      "4000/4000 [==============================] - 0s 19us/step - loss: 0.4739 - acc: 0.8360 - val_loss: 0.3030 - val_acc: 0.9200\n",
      "Epoch 119/250\n",
      "4000/4000 [==============================] - 0s 18us/step - loss: 0.4896 - acc: 0.8337 - val_loss: 0.3051 - val_acc: 0.9270\n"
     ]
    },
    {
     "name": "stdout",
     "output_type": "stream",
     "text": [
      "Epoch 120/250\n",
      "4000/4000 [==============================] - 0s 18us/step - loss: 0.4491 - acc: 0.8482 - val_loss: 0.3027 - val_acc: 0.9240\n",
      "Epoch 121/250\n",
      "4000/4000 [==============================] - 0s 17us/step - loss: 0.4499 - acc: 0.8455 - val_loss: 0.3033 - val_acc: 0.9250\n",
      "Epoch 122/250\n",
      "4000/4000 [==============================] - 0s 17us/step - loss: 0.4678 - acc: 0.8390 - val_loss: 0.3034 - val_acc: 0.9270\n",
      "Epoch 123/250\n",
      "4000/4000 [==============================] - 0s 17us/step - loss: 0.4593 - acc: 0.8420 - val_loss: 0.3028 - val_acc: 0.9260\n",
      "Epoch 124/250\n",
      "4000/4000 [==============================] - 0s 17us/step - loss: 0.4452 - acc: 0.8473 - val_loss: 0.3011 - val_acc: 0.9230\n",
      "Epoch 125/250\n",
      "4000/4000 [==============================] - 0s 18us/step - loss: 0.4495 - acc: 0.8475 - val_loss: 0.3023 - val_acc: 0.9260\n",
      "Epoch 126/250\n",
      "4000/4000 [==============================] - 0s 17us/step - loss: 0.4709 - acc: 0.8350 - val_loss: 0.3021 - val_acc: 0.9240\n",
      "Epoch 127/250\n",
      "4000/4000 [==============================] - 0s 18us/step - loss: 0.4548 - acc: 0.8440 - val_loss: 0.3026 - val_acc: 0.9240\n",
      "Epoch 128/250\n",
      "4000/4000 [==============================] - 0s 17us/step - loss: 0.4524 - acc: 0.8455 - val_loss: 0.2983 - val_acc: 0.9240\n",
      "Epoch 129/250\n",
      "4000/4000 [==============================] - 0s 18us/step - loss: 0.4726 - acc: 0.8350 - val_loss: 0.3004 - val_acc: 0.9240\n",
      "Epoch 130/250\n",
      "4000/4000 [==============================] - 0s 18us/step - loss: 0.4587 - acc: 0.8410 - val_loss: 0.2999 - val_acc: 0.9250\n",
      "Epoch 131/250\n",
      "4000/4000 [==============================] - 0s 17us/step - loss: 0.4560 - acc: 0.8435 - val_loss: 0.3007 - val_acc: 0.9260\n",
      "Epoch 132/250\n",
      "4000/4000 [==============================] - 0s 18us/step - loss: 0.4450 - acc: 0.8482 - val_loss: 0.2986 - val_acc: 0.9250\n",
      "Epoch 133/250\n",
      "4000/4000 [==============================] - 0s 17us/step - loss: 0.4633 - acc: 0.8393 - val_loss: 0.2986 - val_acc: 0.9240\n",
      "Epoch 134/250\n",
      "4000/4000 [==============================] - 0s 19us/step - loss: 0.4522 - acc: 0.8427 - val_loss: 0.2989 - val_acc: 0.9250\n",
      "Epoch 135/250\n",
      "4000/4000 [==============================] - 0s 20us/step - loss: 0.4437 - acc: 0.8450 - val_loss: 0.2974 - val_acc: 0.9230\n",
      "Epoch 136/250\n",
      "4000/4000 [==============================] - 0s 18us/step - loss: 0.4595 - acc: 0.8387 - val_loss: 0.2974 - val_acc: 0.9230\n",
      "Epoch 137/250\n",
      "4000/4000 [==============================] - 0s 18us/step - loss: 0.4438 - acc: 0.8450 - val_loss: 0.3001 - val_acc: 0.9250\n",
      "Epoch 138/250\n",
      "4000/4000 [==============================] - 0s 17us/step - loss: 0.4717 - acc: 0.8305 - val_loss: 0.2988 - val_acc: 0.9240\n",
      "Epoch 139/250\n",
      "4000/4000 [==============================] - 0s 17us/step - loss: 0.4521 - acc: 0.8417 - val_loss: 0.2974 - val_acc: 0.9210\n",
      "Epoch 140/250\n",
      "4000/4000 [==============================] - 0s 17us/step - loss: 0.4585 - acc: 0.8357 - val_loss: 0.2996 - val_acc: 0.9230\n",
      "Epoch 141/250\n",
      "4000/4000 [==============================] - 0s 17us/step - loss: 0.4308 - acc: 0.8485 - val_loss: 0.2979 - val_acc: 0.9210\n",
      "Epoch 142/250\n",
      "4000/4000 [==============================] - 0s 17us/step - loss: 0.4487 - acc: 0.8407 - val_loss: 0.3002 - val_acc: 0.9230\n",
      "Epoch 143/250\n",
      "4000/4000 [==============================] - 0s 18us/step - loss: 0.4411 - acc: 0.8407 - val_loss: 0.2986 - val_acc: 0.9200\n",
      "Epoch 144/250\n",
      "4000/4000 [==============================] - 0s 17us/step - loss: 0.4423 - acc: 0.8380 - val_loss: 0.2998 - val_acc: 0.9250\n",
      "Epoch 145/250\n",
      "4000/4000 [==============================] - 0s 18us/step - loss: 0.4310 - acc: 0.8468 - val_loss: 0.2993 - val_acc: 0.9240\n",
      "Epoch 146/250\n",
      "4000/4000 [==============================] - 0s 18us/step - loss: 0.4606 - acc: 0.8345 - val_loss: 0.2992 - val_acc: 0.9220\n",
      "Epoch 147/250\n",
      "4000/4000 [==============================] - 0s 17us/step - loss: 0.4269 - acc: 0.8482 - val_loss: 0.3006 - val_acc: 0.9260\n",
      "Epoch 148/250\n",
      "4000/4000 [==============================] - 0s 19us/step - loss: 0.4349 - acc: 0.8452 - val_loss: 0.3003 - val_acc: 0.9250\n",
      "Epoch 149/250\n",
      "4000/4000 [==============================] - 0s 18us/step - loss: 0.4346 - acc: 0.8503 - val_loss: 0.2992 - val_acc: 0.9240\n",
      "Epoch 150/250\n",
      "4000/4000 [==============================] - 0s 17us/step - loss: 0.4344 - acc: 0.8473 - val_loss: 0.3005 - val_acc: 0.9220\n",
      "Epoch 151/250\n",
      "4000/4000 [==============================] - 0s 17us/step - loss: 0.4304 - acc: 0.8498 - val_loss: 0.3006 - val_acc: 0.9250\n",
      "Epoch 152/250\n",
      "4000/4000 [==============================] - 0s 20us/step - loss: 0.4286 - acc: 0.8515 - val_loss: 0.3016 - val_acc: 0.9230\n",
      "Epoch 153/250\n",
      "4000/4000 [==============================] - 0s 19us/step - loss: 0.4459 - acc: 0.8420 - val_loss: 0.3017 - val_acc: 0.9240\n",
      "Epoch 154/250\n",
      "4000/4000 [==============================] - 0s 18us/step - loss: 0.4263 - acc: 0.8520 - val_loss: 0.3033 - val_acc: 0.9240\n",
      "Epoch 155/250\n",
      "4000/4000 [==============================] - 0s 18us/step - loss: 0.4485 - acc: 0.8420 - val_loss: 0.3032 - val_acc: 0.9240\n",
      "Epoch 156/250\n",
      "4000/4000 [==============================] - 0s 18us/step - loss: 0.4341 - acc: 0.8505 - val_loss: 0.3022 - val_acc: 0.9240\n",
      "Epoch 157/250\n",
      "4000/4000 [==============================] - 0s 18us/step - loss: 0.4320 - acc: 0.8485 - val_loss: 0.3047 - val_acc: 0.9240\n",
      "Epoch 158/250\n",
      "4000/4000 [==============================] - 0s 18us/step - loss: 0.4457 - acc: 0.8458 - val_loss: 0.3035 - val_acc: 0.9250\n",
      "Epoch 159/250\n",
      "4000/4000 [==============================] - 0s 18us/step - loss: 0.4414 - acc: 0.8460 - val_loss: 0.3031 - val_acc: 0.9250\n",
      "Epoch 160/250\n",
      "4000/4000 [==============================] - 0s 18us/step - loss: 0.4604 - acc: 0.8365 - val_loss: 0.3027 - val_acc: 0.9220\n",
      "Epoch 161/250\n",
      "4000/4000 [==============================] - 0s 17us/step - loss: 0.4106 - acc: 0.8558 - val_loss: 0.3033 - val_acc: 0.9210\n",
      "Epoch 162/250\n",
      "4000/4000 [==============================] - 0s 18us/step - loss: 0.4467 - acc: 0.8458 - val_loss: 0.3059 - val_acc: 0.9240\n",
      "Epoch 163/250\n",
      "4000/4000 [==============================] - 0s 17us/step - loss: 0.4251 - acc: 0.8512 - val_loss: 0.3024 - val_acc: 0.9210\n",
      "Epoch 164/250\n",
      "4000/4000 [==============================] - 0s 17us/step - loss: 0.4608 - acc: 0.8397 - val_loss: 0.3035 - val_acc: 0.9240\n",
      "Epoch 165/250\n",
      "4000/4000 [==============================] - 0s 18us/step - loss: 0.4276 - acc: 0.8480 - val_loss: 0.3060 - val_acc: 0.9230\n",
      "Epoch 166/250\n",
      "4000/4000 [==============================] - 0s 18us/step - loss: 0.4412 - acc: 0.8425 - val_loss: 0.3065 - val_acc: 0.9210\n",
      "Epoch 167/250\n",
      "4000/4000 [==============================] - 0s 18us/step - loss: 0.4398 - acc: 0.8443 - val_loss: 0.3069 - val_acc: 0.9250\n",
      "Epoch 168/250\n",
      "4000/4000 [==============================] - 0s 17us/step - loss: 0.4136 - acc: 0.8548 - val_loss: 0.3051 - val_acc: 0.9230\n",
      "Epoch 169/250\n",
      "4000/4000 [==============================] - 0s 19us/step - loss: 0.4245 - acc: 0.8503 - val_loss: 0.3067 - val_acc: 0.9220\n",
      "Epoch 170/250\n",
      "4000/4000 [==============================] - 0s 19us/step - loss: 0.4151 - acc: 0.8533 - val_loss: 0.3037 - val_acc: 0.9250\n",
      "Epoch 171/250\n",
      "4000/4000 [==============================] - 0s 19us/step - loss: 0.4282 - acc: 0.8468 - val_loss: 0.3050 - val_acc: 0.9230\n",
      "Epoch 172/250\n",
      "4000/4000 [==============================] - 0s 18us/step - loss: 0.4376 - acc: 0.8427 - val_loss: 0.3053 - val_acc: 0.9240\n",
      "Epoch 173/250\n",
      "4000/4000 [==============================] - 0s 17us/step - loss: 0.4332 - acc: 0.8460 - val_loss: 0.3057 - val_acc: 0.9260\n",
      "Epoch 174/250\n",
      "4000/4000 [==============================] - 0s 17us/step - loss: 0.4356 - acc: 0.8475 - val_loss: 0.3061 - val_acc: 0.9220\n",
      "Epoch 175/250\n",
      "4000/4000 [==============================] - 0s 18us/step - loss: 0.4278 - acc: 0.8480 - val_loss: 0.3061 - val_acc: 0.9250\n",
      "Epoch 176/250\n",
      "4000/4000 [==============================] - 0s 19us/step - loss: 0.4215 - acc: 0.8512 - val_loss: 0.3059 - val_acc: 0.9240\n",
      "Epoch 177/250\n",
      "4000/4000 [==============================] - 0s 17us/step - loss: 0.4104 - acc: 0.8548 - val_loss: 0.3070 - val_acc: 0.9220\n",
      "Epoch 178/250\n",
      "4000/4000 [==============================] - 0s 18us/step - loss: 0.4183 - acc: 0.8552 - val_loss: 0.3081 - val_acc: 0.9200\n",
      "Epoch 179/250\n"
     ]
    },
    {
     "name": "stdout",
     "output_type": "stream",
     "text": [
      "4000/4000 [==============================] - 0s 17us/step - loss: 0.4056 - acc: 0.8572 - val_loss: 0.3084 - val_acc: 0.9230\n",
      "Epoch 180/250\n",
      "4000/4000 [==============================] - 0s 17us/step - loss: 0.4208 - acc: 0.8508 - val_loss: 0.3052 - val_acc: 0.9260\n",
      "Epoch 181/250\n",
      "4000/4000 [==============================] - 0s 17us/step - loss: 0.4170 - acc: 0.8510 - val_loss: 0.3083 - val_acc: 0.9220\n",
      "Epoch 182/250\n",
      "4000/4000 [==============================] - 0s 17us/step - loss: 0.4162 - acc: 0.8525 - val_loss: 0.3086 - val_acc: 0.9230\n",
      "Epoch 183/250\n",
      "4000/4000 [==============================] - 0s 17us/step - loss: 0.4032 - acc: 0.8558 - val_loss: 0.3067 - val_acc: 0.9240\n",
      "Epoch 184/250\n",
      "4000/4000 [==============================] - 0s 17us/step - loss: 0.4289 - acc: 0.8462 - val_loss: 0.3092 - val_acc: 0.9250\n",
      "Epoch 185/250\n",
      "4000/4000 [==============================] - 0s 18us/step - loss: 0.4081 - acc: 0.8552 - val_loss: 0.3088 - val_acc: 0.9230\n",
      "Epoch 186/250\n",
      "4000/4000 [==============================] - 0s 17us/step - loss: 0.4131 - acc: 0.8520 - val_loss: 0.3073 - val_acc: 0.9230\n",
      "Epoch 187/250\n",
      "4000/4000 [==============================] - 0s 20us/step - loss: 0.4262 - acc: 0.8492 - val_loss: 0.3078 - val_acc: 0.9210\n",
      "Epoch 188/250\n",
      "4000/4000 [==============================] - 0s 19us/step - loss: 0.4136 - acc: 0.8533 - val_loss: 0.3092 - val_acc: 0.9220\n",
      "Epoch 189/250\n",
      "4000/4000 [==============================] - 0s 17us/step - loss: 0.4127 - acc: 0.8542 - val_loss: 0.3097 - val_acc: 0.9240\n",
      "Epoch 190/250\n",
      "4000/4000 [==============================] - 0s 19us/step - loss: 0.4184 - acc: 0.8500 - val_loss: 0.3093 - val_acc: 0.9210\n",
      "Epoch 191/250\n",
      "4000/4000 [==============================] - 0s 17us/step - loss: 0.4287 - acc: 0.8480 - val_loss: 0.3116 - val_acc: 0.9200\n",
      "Epoch 192/250\n",
      "4000/4000 [==============================] - 0s 18us/step - loss: 0.4139 - acc: 0.8485 - val_loss: 0.3105 - val_acc: 0.9210\n",
      "Epoch 193/250\n",
      "4000/4000 [==============================] - 0s 17us/step - loss: 0.3966 - acc: 0.8602 - val_loss: 0.3101 - val_acc: 0.9240\n",
      "Epoch 194/250\n",
      "4000/4000 [==============================] - 0s 17us/step - loss: 0.4281 - acc: 0.8458 - val_loss: 0.3110 - val_acc: 0.9220\n",
      "Epoch 195/250\n",
      "4000/4000 [==============================] - 0s 17us/step - loss: 0.3974 - acc: 0.8600 - val_loss: 0.3107 - val_acc: 0.9240\n",
      "Epoch 196/250\n",
      "4000/4000 [==============================] - 0s 17us/step - loss: 0.4050 - acc: 0.8582 - val_loss: 0.3120 - val_acc: 0.9190\n",
      "Epoch 197/250\n",
      "4000/4000 [==============================] - 0s 18us/step - loss: 0.4139 - acc: 0.8542 - val_loss: 0.3108 - val_acc: 0.9220\n",
      "Epoch 198/250\n",
      "4000/4000 [==============================] - 0s 18us/step - loss: 0.4169 - acc: 0.8542 - val_loss: 0.3113 - val_acc: 0.9240\n",
      "Epoch 199/250\n",
      "4000/4000 [==============================] - 0s 18us/step - loss: 0.4124 - acc: 0.8552 - val_loss: 0.3120 - val_acc: 0.9220\n",
      "Epoch 200/250\n",
      "4000/4000 [==============================] - 0s 17us/step - loss: 0.4029 - acc: 0.8558 - val_loss: 0.3126 - val_acc: 0.9230\n",
      "Epoch 201/250\n",
      "4000/4000 [==============================] - 0s 17us/step - loss: 0.4017 - acc: 0.8582 - val_loss: 0.3136 - val_acc: 0.9230\n",
      "Epoch 202/250\n",
      "4000/4000 [==============================] - 0s 17us/step - loss: 0.4149 - acc: 0.8535 - val_loss: 0.3137 - val_acc: 0.9240\n",
      "Epoch 203/250\n",
      "4000/4000 [==============================] - 0s 17us/step - loss: 0.4079 - acc: 0.8568 - val_loss: 0.3152 - val_acc: 0.9220\n",
      "Epoch 204/250\n",
      "4000/4000 [==============================] - 0s 19us/step - loss: 0.3958 - acc: 0.8572 - val_loss: 0.3139 - val_acc: 0.9260\n",
      "Epoch 205/250\n",
      "4000/4000 [==============================] - 0s 20us/step - loss: 0.3964 - acc: 0.8575 - val_loss: 0.3162 - val_acc: 0.9250\n",
      "Epoch 206/250\n",
      "4000/4000 [==============================] - 0s 19us/step - loss: 0.4245 - acc: 0.8475 - val_loss: 0.3135 - val_acc: 0.9240\n",
      "Epoch 207/250\n",
      "4000/4000 [==============================] - 0s 20us/step - loss: 0.3878 - acc: 0.8642 - val_loss: 0.3125 - val_acc: 0.9230\n",
      "Epoch 208/250\n",
      "4000/4000 [==============================] - 0s 18us/step - loss: 0.4136 - acc: 0.8503 - val_loss: 0.3163 - val_acc: 0.9240\n",
      "Epoch 209/250\n",
      "4000/4000 [==============================] - 0s 18us/step - loss: 0.3998 - acc: 0.8595 - val_loss: 0.3163 - val_acc: 0.9230\n",
      "Epoch 210/250\n",
      "4000/4000 [==============================] - 0s 17us/step - loss: 0.3958 - acc: 0.8593 - val_loss: 0.3137 - val_acc: 0.9250\n",
      "Epoch 211/250\n",
      "4000/4000 [==============================] - 0s 17us/step - loss: 0.4084 - acc: 0.8538 - val_loss: 0.3153 - val_acc: 0.9240\n",
      "Epoch 212/250\n",
      "4000/4000 [==============================] - 0s 18us/step - loss: 0.4162 - acc: 0.8490 - val_loss: 0.3145 - val_acc: 0.9240\n",
      "Epoch 213/250\n",
      "4000/4000 [==============================] - 0s 18us/step - loss: 0.4037 - acc: 0.8618 - val_loss: 0.3158 - val_acc: 0.9230\n",
      "Epoch 214/250\n",
      "4000/4000 [==============================] - 0s 17us/step - loss: 0.3942 - acc: 0.8615 - val_loss: 0.3150 - val_acc: 0.9230\n",
      "Epoch 215/250\n",
      "4000/4000 [==============================] - 0s 17us/step - loss: 0.3738 - acc: 0.8670 - val_loss: 0.3165 - val_acc: 0.9230\n",
      "Epoch 216/250\n",
      "4000/4000 [==============================] - 0s 18us/step - loss: 0.4042 - acc: 0.8570 - val_loss: 0.3169 - val_acc: 0.9230\n",
      "Epoch 217/250\n",
      "4000/4000 [==============================] - 0s 18us/step - loss: 0.3998 - acc: 0.8578 - val_loss: 0.3168 - val_acc: 0.9240\n",
      "Epoch 218/250\n",
      "4000/4000 [==============================] - 0s 17us/step - loss: 0.4004 - acc: 0.8608 - val_loss: 0.3175 - val_acc: 0.9220\n",
      "Epoch 219/250\n",
      "4000/4000 [==============================] - 0s 18us/step - loss: 0.4041 - acc: 0.8575 - val_loss: 0.3174 - val_acc: 0.9230\n",
      "Epoch 220/250\n",
      "4000/4000 [==============================] - 0s 18us/step - loss: 0.4347 - acc: 0.8452 - val_loss: 0.3178 - val_acc: 0.9240\n",
      "Epoch 221/250\n",
      "4000/4000 [==============================] - 0s 18us/step - loss: 0.4128 - acc: 0.8503 - val_loss: 0.3199 - val_acc: 0.9230\n",
      "Epoch 222/250\n",
      "4000/4000 [==============================] - 0s 18us/step - loss: 0.4023 - acc: 0.8550 - val_loss: 0.3196 - val_acc: 0.9210\n",
      "Epoch 223/250\n",
      "4000/4000 [==============================] - 0s 19us/step - loss: 0.4074 - acc: 0.8550 - val_loss: 0.3173 - val_acc: 0.9240\n",
      "Epoch 224/250\n",
      "4000/4000 [==============================] - 0s 20us/step - loss: 0.4066 - acc: 0.8530 - val_loss: 0.3186 - val_acc: 0.9190\n",
      "Epoch 225/250\n",
      "4000/4000 [==============================] - 0s 19us/step - loss: 0.3937 - acc: 0.8598 - val_loss: 0.3170 - val_acc: 0.9230\n",
      "Epoch 226/250\n",
      "4000/4000 [==============================] - 0s 17us/step - loss: 0.4200 - acc: 0.8485 - val_loss: 0.3205 - val_acc: 0.9220\n",
      "Epoch 227/250\n",
      "4000/4000 [==============================] - 0s 17us/step - loss: 0.4060 - acc: 0.8558 - val_loss: 0.3186 - val_acc: 0.9240\n",
      "Epoch 228/250\n",
      "4000/4000 [==============================] - 0s 18us/step - loss: 0.4111 - acc: 0.8520 - val_loss: 0.3194 - val_acc: 0.9220\n",
      "Epoch 229/250\n",
      "4000/4000 [==============================] - 0s 17us/step - loss: 0.4083 - acc: 0.8528 - val_loss: 0.3187 - val_acc: 0.9230\n",
      "Epoch 230/250\n",
      "4000/4000 [==============================] - 0s 17us/step - loss: 0.3995 - acc: 0.8588 - val_loss: 0.3194 - val_acc: 0.9210\n",
      "Epoch 231/250\n",
      "4000/4000 [==============================] - 0s 17us/step - loss: 0.4156 - acc: 0.8505 - val_loss: 0.3184 - val_acc: 0.9220\n",
      "Epoch 232/250\n",
      "4000/4000 [==============================] - 0s 19us/step - loss: 0.4192 - acc: 0.8503 - val_loss: 0.3189 - val_acc: 0.9250\n",
      "Epoch 233/250\n",
      "4000/4000 [==============================] - 0s 17us/step - loss: 0.3855 - acc: 0.8612 - val_loss: 0.3187 - val_acc: 0.9220\n",
      "Epoch 234/250\n",
      "4000/4000 [==============================] - 0s 18us/step - loss: 0.3998 - acc: 0.8542 - val_loss: 0.3203 - val_acc: 0.9240\n",
      "Epoch 235/250\n",
      "4000/4000 [==============================] - 0s 18us/step - loss: 0.3964 - acc: 0.8572 - val_loss: 0.3205 - val_acc: 0.9260\n",
      "Epoch 236/250\n",
      "4000/4000 [==============================] - 0s 17us/step - loss: 0.4008 - acc: 0.8550 - val_loss: 0.3210 - val_acc: 0.9240\n",
      "Epoch 237/250\n",
      "4000/4000 [==============================] - 0s 17us/step - loss: 0.4014 - acc: 0.8550 - val_loss: 0.3203 - val_acc: 0.9230\n",
      "Epoch 238/250\n"
     ]
    },
    {
     "name": "stdout",
     "output_type": "stream",
     "text": [
      "4000/4000 [==============================] - 0s 18us/step - loss: 0.4218 - acc: 0.8508 - val_loss: 0.3195 - val_acc: 0.9220\n",
      "Epoch 239/250\n",
      "4000/4000 [==============================] - 0s 17us/step - loss: 0.3960 - acc: 0.8580 - val_loss: 0.3189 - val_acc: 0.9240\n",
      "Epoch 240/250\n",
      "4000/4000 [==============================] - 0s 17us/step - loss: 0.4132 - acc: 0.8512 - val_loss: 0.3206 - val_acc: 0.9230\n",
      "Epoch 241/250\n",
      "4000/4000 [==============================] - 0s 20us/step - loss: 0.4000 - acc: 0.8558 - val_loss: 0.3227 - val_acc: 0.9220\n",
      "Epoch 242/250\n",
      "4000/4000 [==============================] - 0s 19us/step - loss: 0.3894 - acc: 0.8602 - val_loss: 0.3224 - val_acc: 0.9250\n",
      "Epoch 243/250\n",
      "4000/4000 [==============================] - 0s 17us/step - loss: 0.3644 - acc: 0.8728 - val_loss: 0.3205 - val_acc: 0.9240\n",
      "Epoch 244/250\n",
      "4000/4000 [==============================] - 0s 17us/step - loss: 0.3973 - acc: 0.8572 - val_loss: 0.3207 - val_acc: 0.9240\n",
      "Epoch 245/250\n",
      "4000/4000 [==============================] - 0s 18us/step - loss: 0.3922 - acc: 0.8582 - val_loss: 0.3223 - val_acc: 0.9230\n",
      "Epoch 246/250\n",
      "4000/4000 [==============================] - 0s 17us/step - loss: 0.3678 - acc: 0.8710 - val_loss: 0.3229 - val_acc: 0.9240\n",
      "Epoch 247/250\n",
      "4000/4000 [==============================] - 0s 18us/step - loss: 0.4066 - acc: 0.8570 - val_loss: 0.3217 - val_acc: 0.9230\n",
      "Epoch 248/250\n",
      "4000/4000 [==============================] - 0s 17us/step - loss: 0.3934 - acc: 0.8605 - val_loss: 0.3225 - val_acc: 0.9180\n",
      "Epoch 249/250\n",
      "4000/4000 [==============================] - 0s 18us/step - loss: 0.3780 - acc: 0.8662 - val_loss: 0.3235 - val_acc: 0.9200\n",
      "Epoch 250/250\n",
      "4000/4000 [==============================] - 0s 17us/step - loss: 0.3967 - acc: 0.8575 - val_loss: 0.3231 - val_acc: 0.9200\n"
     ]
    }
   ],
   "source": [
    "model_dropout.compile(optimizer='rmsprop', loss='categorical_crossentropy', metrics=['accuracy'])\n",
    "history_dropout = model_dropout.fit(X_train, y_train, batch_size=128, epochs=250, verbose=1, validation_data=(X_test, y_test))"
   ]
  },
  {
   "cell_type": "code",
   "execution_count": 178,
   "metadata": {},
   "outputs": [
    {
     "name": "stdout",
     "output_type": "stream",
     "text": [
      "1000/1000 [==============================] - 0s 18us/step\n",
      "Evaluation result on Test Data : Cost = 0.32309364292025566, accuracy = 92.0\n"
     ]
    }
   ],
   "source": [
    "#Model with dropout evaluation\n",
    "[test_cost, test_acc] = model_dropout.evaluate(X_test, y_test)\n",
    "print(\"Evaluation result on Test Data : Cost = {}, accuracy = {}\".format(test_cost, (test_acc*100)))"
   ]
  },
  {
   "cell_type": "markdown",
   "metadata": {},
   "source": [
    "Not bad! Behold the power of dropout!\n",
    "\n",
    "\n",
    "Let's take a look at the dropout model's cost and accuracy."
   ]
  },
  {
   "cell_type": "code",
   "execution_count": 179,
   "metadata": {},
   "outputs": [
    {
     "data": {
      "text/plain": [
       "Text(0.5,1,'Model with Dropout Accuracy Curves')"
      ]
     },
     "execution_count": 179,
     "metadata": {},
     "output_type": "execute_result"
    },
    {
     "data": {
      "image/png": "[encoded data removed]",
      "text/plain": [
       "<Figure size 576x432 with 1 Axes>"
      ]
     },
     "metadata": {},
     "output_type": "display_data"
    },
    {
     "data": {
      "image/png": "[encoded data removed]",
      "text/plain": [
       "<Figure size 576x432 with 1 Axes>"
      ]
     },
     "metadata": {},
     "output_type": "display_data"
    }
   ],
   "source": [
    "#Plot cost of model with dropout\n",
    "plt.figure(figsize=[8,6])\n",
    "plt.plot(history_dropout.history['loss'],'r',linewidth=3.0)\n",
    "plt.plot(history_dropout.history['val_loss'],'b',linewidth=3.0)\n",
    "plt.legend(['Training Cost', 'Validation Cost'],fontsize=18)\n",
    "plt.xlabel('Epochs ',fontsize=16)\n",
    "plt.ylabel('Cost',fontsize=16)\n",
    "plt.title('Model with Dropout Cost Curves',fontsize=16)\n",
    " \n",
    "#Plot accuracy of model with dropout\n",
    "plt.figure(figsize=[8,6])\n",
    "plt.plot(history_dropout.history['acc'],'r',linewidth=3.0)\n",
    "plt.plot(history_dropout.history['val_acc'],'b',linewidth=3.0)\n",
    "plt.legend(['Training Accuracy', 'Validation Accuracy'],fontsize=18)\n",
    "plt.xlabel('Epochs ',fontsize=16)\n",
    "plt.ylabel('Accuracy',fontsize=16)\n",
    "plt.title('Model with Dropout Accuracy Curves',fontsize=16)"
   ]
  },
  {
   "cell_type": "markdown",
   "metadata": {},
   "source": [
    "That looks much better! We're actually more accurate on the test set than we are on the training set, but I'm sure that wouldn't be the case for long if we increased the number of Epochs. At any rate, our model is more general now.\n",
    "\n",
    "Thanks for reading, dear reader!"
   ]
  }
 ],
 "metadata": {
  "kernelspec": {
   "display_name": "Python 3",
   "language": "python",
   "name": "python3"
  },
  "language_info": {
   "codemirror_mode": {
    "name": "ipython",
    "version": 3
   },
   "file_extension": ".py",
   "mimetype": "text/x-python",
   "name": "python",
   "nbconvert_exporter": "python",
   "pygments_lexer": "ipython3",
   "version": "3.6.5"
  }
 },
 "nbformat": 4,
 "nbformat_minor": 1
}
